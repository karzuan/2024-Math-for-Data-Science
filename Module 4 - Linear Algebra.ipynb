{
 "cells": [
  {
   "cell_type": "code",
   "execution_count": 20,
   "id": "42037327-61a3-4b7c-a7a8-5f583202c518",
   "metadata": {},
   "outputs": [],
   "source": [
    "from numpy import *\n",
    "from numpy.linalg import det \n",
    "from numpy.linalg import eig, inv"
   ]
  },
  {
   "cell_type": "code",
   "execution_count": 4,
   "id": "626ceccc-b941-4135-bd04-6860ad7940ac",
   "metadata": {},
   "outputs": [
    {
     "name": "stdout",
     "output_type": "stream",
     "text": [
      "[4. 1. 2.]\n"
     ]
    }
   ],
   "source": [
    "data = [4.0, 1.0, 2.0]\n",
    "v = array ( data )\n",
    "\n",
    "print(v)"
   ]
  },
  {
   "cell_type": "code",
   "execution_count": 5,
   "id": "0221910f-9d4c-456f-9252-4db28aa0a1b4",
   "metadata": {},
   "outputs": [
    {
     "name": "stdout",
     "output_type": "stream",
     "text": [
      "[5 1]\n"
     ]
    }
   ],
   "source": [
    "v = array([3,2])\n",
    "w = array([2, -1])\n",
    "\n",
    "v_plus_w = v + w\n",
    "\n",
    "print(v_plus_w)"
   ]
  },
  {
   "cell_type": "code",
   "execution_count": 6,
   "id": "da77d2fd-3a74-4cd3-89df-422562474114",
   "metadata": {},
   "outputs": [
    {
     "name": "stdout",
     "output_type": "stream",
     "text": [
      "[6. 2.]\n"
     ]
    }
   ],
   "source": [
    "v = array ([3, 1])\n",
    "scaled_v = 2.0 * v\n",
    "\n",
    "print(scaled_v)"
   ]
  },
  {
   "cell_type": "code",
   "execution_count": 24,
   "id": "d260ac7c-33f8-49b2-a7b0-afd0939ede24",
   "metadata": {},
   "outputs": [
    {
     "name": "stdout",
     "output_type": "stream",
     "text": [
      "[4 3]\n"
     ]
    }
   ],
   "source": [
    "i_hat = array([2,0])\n",
    "j_hat = array([0,3])\n",
    "\n",
    "# compose basis matrix using i-hat and j-hat\n",
    "# also need to transpose rows into columns\n",
    "basis = array([i_hat, j_hat]).transpose()\n",
    "#print(basis)\n",
    "\n",
    "# declare vector v 0\n",
    "v = array([2,1])\n",
    "\n",
    "# create new vector w\n",
    "# by transforming v with dot product\n",
    "w = basis.dot(v)\n",
    "\n",
    "print(w)"
   ]
  },
  {
   "cell_type": "code",
   "execution_count": 20,
   "id": "bf02c330-2274-4b9e-832a-da6a4c72df64",
   "metadata": {},
   "outputs": [
    {
     "name": "stdout",
     "output_type": "stream",
     "text": [
      "[[4 0]\n",
      " [0 3]]\n"
     ]
    }
   ],
   "source": [
    "print(basis*v)"
   ]
  },
  {
   "cell_type": "code",
   "execution_count": 27,
   "id": "d9243ff4-df49-420b-971c-ca47044b6d39",
   "metadata": {},
   "outputs": [
    {
     "name": "stdout",
     "output_type": "stream",
     "text": [
      "[-4 -8]\n"
     ]
    }
   ],
   "source": [
    "i_hat = array([-1, 0])\n",
    "j_hat = array([ 0,-4])\n",
    "\n",
    "basis = array( [i_hat, j_hat]).transpose()\n",
    "\n",
    "v = array([4,2])\n",
    "w = basis.dot(v)\n",
    "print(w)"
   ]
  },
  {
   "cell_type": "markdown",
   "id": "b10b9988-cc75-47bd-a3f5-6096447f822c",
   "metadata": {},
   "source": [
    "### Sheers, Rotations, and Inversions"
   ]
  },
  {
   "cell_type": "code",
   "execution_count": 31,
   "id": "f2b94a23-b1db-4f6c-b43a-c29ac85d9b8e",
   "metadata": {},
   "outputs": [
    {
     "name": "stdout",
     "output_type": "stream",
     "text": [
      "[-3  1]\n"
     ]
    }
   ],
   "source": [
    "from numpy import array\n",
    "i_hat = array([1, 2])\n",
    "j_hat = array([-4, -1])\n",
    "basis = array([i_hat, j_hat]).transpose ()\n",
    "v = array ([1,1])\n",
    "w = basis.dot(v)\n",
    "print (w)"
   ]
  },
  {
   "cell_type": "markdown",
   "id": "dd7e10bd-13e7-4801-8bb8-68112dd9fac1",
   "metadata": {},
   "source": [
    "### The Determinant"
   ]
  },
  {
   "cell_type": "code",
   "execution_count": 32,
   "id": "ce8ca045-c3a6-4465-a558-34bd43257e76",
   "metadata": {},
   "outputs": [
    {
     "name": "stdout",
     "output_type": "stream",
     "text": [
      "6.0\n"
     ]
    }
   ],
   "source": [
    "i_hat = array( [3, 0])\n",
    "j_hat = array( [0, 2])\n",
    "\n",
    "basis = array([i_hat, j_hat]).transpose()\n",
    "\n",
    "determinant = det(basis)\n",
    "\n",
    "print(determinant) # prints 6.0"
   ]
  },
  {
   "cell_type": "code",
   "execution_count": 33,
   "id": "b11e04c6-cb11-462e-8715-ef1e0d595f24",
   "metadata": {},
   "outputs": [
    {
     "name": "stdout",
     "output_type": "stream",
     "text": [
      "1.0\n"
     ]
    }
   ],
   "source": [
    "i_hat = array([1, 0])\n",
    "j_hat = array([1, 1])\n",
    "basis = array([i_hat, j_hat]).transpose ()\n",
    "determinant = det(basis)\n",
    "\n",
    "print(determinant)"
   ]
  },
  {
   "cell_type": "code",
   "execution_count": 34,
   "id": "0e6b1ac8-4286-4f50-bf00-4c639a4c8252",
   "metadata": {},
   "outputs": [
    {
     "name": "stdout",
     "output_type": "stream",
     "text": [
      "5.000000000000001\n"
     ]
    }
   ],
   "source": [
    "i_hat = array([1, 2])\n",
    "j_hat = array([-2, 1])\n",
    "basis = array([i_hat, j_hat]).transpose ()\n",
    "determinant = det(basis)\n",
    "\n",
    "print(determinant)"
   ]
  },
  {
   "cell_type": "code",
   "execution_count": 35,
   "id": "10664d4b-6b81-4c35-a7ea-cb3b4a257f58",
   "metadata": {},
   "outputs": [
    {
     "name": "stdout",
     "output_type": "stream",
     "text": [
      "0.0\n"
     ]
    }
   ],
   "source": [
    "i_hat = array([-1, 1])\n",
    "j_hat = array([1, -1])\n",
    "basis = array([i_hat, j_hat]).transpose ()\n",
    "determinant = det(basis)\n",
    "\n",
    "print(determinant)"
   ]
  },
  {
   "cell_type": "code",
   "execution_count": 41,
   "id": "cc8faaed-9efd-4340-aa5a-b05c4b457fb9",
   "metadata": {},
   "outputs": [
    {
     "name": "stdout",
     "output_type": "stream",
     "text": [
      "[[ 1 -1]\n",
      " [ 1  0]]\n"
     ]
    }
   ],
   "source": [
    "# Transformation 1\n",
    "i_hat1 = array([0, 1])\n",
    "j_hat1 = array([-1, 0])\n",
    "transform1 = array([i_hat1, j_hat1]).transpose()\n",
    "# Transformation 2\n",
    "i_hat2 = array([1, 0])\n",
    "j_hat2 = array([1, 1])\n",
    "transform2 = array([i_hat2, j_hat2]).transpose()\n",
    "# Combine Transformations\n",
    "combined = transform2 @ transform1\n",
    "print (combined)"
   ]
  },
  {
   "cell_type": "markdown",
   "id": "f9a11b0f-8e41-4043-a160-285f06fb1711",
   "metadata": {},
   "source": [
    "### Dot Products"
   ]
  },
  {
   "cell_type": "code",
   "execution_count": 45,
   "id": "00d97cbe-f811-4f47-8c0a-5b8fab43ed19",
   "metadata": {},
   "outputs": [
    {
     "name": "stdout",
     "output_type": "stream",
     "text": [
      "4 4\n"
     ]
    }
   ],
   "source": [
    "from numpy import array\n",
    "v = array([3, 2])\n",
    "w = array ([2,-1])\n",
    "dot_product1 = w.dot(v)\n",
    "dot_product2 = v.dot(w)\n",
    "print(dot_product1, dot_product2) # prints 4.0"
   ]
  },
  {
   "cell_type": "code",
   "execution_count": 46,
   "id": "09813102-2df8-4a82-bb5e-4bd1f542aedd",
   "metadata": {},
   "outputs": [
    {
     "name": "stdout",
     "output_type": "stream",
     "text": [
      "[2 3]\n"
     ]
    }
   ],
   "source": [
    "# Matrix Dot product\n",
    "i_hat = array([-1, 2])\n",
    "j_hat = array ([3, 1])\n",
    "basis = array([i_hat, j_hat]).transpose()\n",
    "v = array([1, 1])\n",
    "dot_product = basis.dot(v)\n",
    "print(dot_product) # prints [2, 3]"
   ]
  },
  {
   "cell_type": "markdown",
   "id": "3e085310-1056-4a6d-81c3-6ef2abb1369f",
   "metadata": {},
   "source": [
    "Over and Down. Over and Down!\n",
    "To avoid doing a whole bunch of projection work, it is much easier to calculate matrix dot products by hand using the \"over and down!\" attern. Multiply and sum each row with each respective column, and this will quickly and efficiently apply a series of transformations."
   ]
  },
  {
   "cell_type": "code",
   "execution_count": 50,
   "id": "48b29d69-16fc-4c93-bc4d-b79c552e35f2",
   "metadata": {},
   "outputs": [
    {
     "name": "stdout",
     "output_type": "stream",
     "text": [
      "[[6 7 1]\n",
      " [2 4 0]]\n"
     ]
    }
   ],
   "source": [
    "v = array([[3, 1], \n",
    "          [2, 0]])\n",
    "w = array([[1, 2, 0], \n",
    "          [3, 1, 1]])\n",
    "dot_product = v.dot(w)\n",
    "print (dot_product)"
   ]
  },
  {
   "cell_type": "markdown",
   "id": "3da9f571-78ca-4a0c-9780-3f579ab36efb",
   "metadata": {},
   "source": [
    "### Systems of Linear Equations and Inverse Matrices"
   ]
  },
  {
   "cell_type": "markdown",
   "id": "65f7f0d6-7e12-4e7e-947f-26727898c02d",
   "metadata": {},
   "source": [
    "Solving Systems of Equations\n",
    "Let's say you have a system of equations like this:\n",
    "\n",
    "4x+2y+4z = 44\n",
    "5x+3y+7z = 56\n",
    "9x+3y+6z = 72\n",
    "\n",
    "\n",
    "We need to solve for x, y, and z. First let's declare the equations above as three matrices:\n",
    "A = [[4,2,4], [5,3,7], [9,3,6]]\n",
    "x = [x,y,z]\n",
    "B = [44, 56, 72]"
   ]
  },
  {
   "cell_type": "markdown",
   "id": "64267acc-5e1d-42d0-884b-473c587726a2",
   "metadata": {},
   "source": [
    "We need to transform matrix A with some other vector X that will result in vector B.\n",
    "\n",
    "AX = B\n",
    "\n",
    "We can isolate X by multiplying each side with the inverse of matrix A, which we will call A^(-1)"
   ]
  },
  {
   "cell_type": "code",
   "execution_count": 52,
   "id": "eea223dc-72c9-470f-92a7-c128cfd20da2",
   "metadata": {},
   "outputs": [
    {
     "name": "stdout",
     "output_type": "stream",
     "text": [
      "[[-0.5         0.          0.33333333]\n",
      " [ 5.5        -2.         -1.33333333]\n",
      " [-2.          1.          0.33333333]]\n"
     ]
    }
   ],
   "source": [
    "from numpy.linalg import inv\n",
    "A = array([\n",
    "[4, 2, 4],\n",
    "[5, 3, 7],\n",
    "[9, 3, 6]\n",
    "])\n",
    "print(inv(A))"
   ]
  },
  {
   "cell_type": "code",
   "execution_count": 62,
   "id": "d4b36970-3ea5-48e5-bdaf-c83744f24917",
   "metadata": {},
   "outputs": [
    {
     "name": "stdout",
     "output_type": "stream",
     "text": [
      "[[ 1.00000000e+00 -2.22044605e-16 -4.44089210e-16]\n",
      " [ 2.66453526e-15  1.00000000e+00  1.77635684e-15]\n",
      " [-6.66133815e-16 -2.22044605e-16  1.00000000e+00]]\n"
     ]
    }
   ],
   "source": [
    "identity = inv(A).dot(A)\n",
    "print(identity)"
   ]
  },
  {
   "cell_type": "code",
   "execution_count": 61,
   "id": "cb597e38-7878-4eb8-b200-de51e6850168",
   "metadata": {},
   "outputs": [
    {
     "name": "stdout",
     "output_type": "stream",
     "text": [
      "[[ 1.00000000e+00  0.00000000e+00  0.00000000e+00]\n",
      " [ 0.00000000e+00  1.00000000e+00 -2.22044605e-16]\n",
      " [ 0.00000000e+00  0.00000000e+00  1.00000000e+00]]\n"
     ]
    }
   ],
   "source": [
    "result = A @ inv(A)\n",
    "print(result)"
   ]
  },
  {
   "cell_type": "code",
   "execution_count": 64,
   "id": "3e7550c3-8a14-4a2c-b012-bb28e050237b",
   "metadata": {},
   "outputs": [
    {
     "name": "stdout",
     "output_type": "stream",
     "text": [
      "[44 56 72]\n"
     ]
    }
   ],
   "source": [
    "B = array([44, 56, 72])\n",
    "print(B)"
   ]
  },
  {
   "cell_type": "code",
   "execution_count": 67,
   "id": "82538f10-0aa2-49b4-97d7-90b6c6e07e8f",
   "metadata": {},
   "outputs": [
    {
     "name": "stdout",
     "output_type": "stream",
     "text": [
      "[[-0.5         0.          0.33333333]\n",
      " [ 5.5        -2.         -1.33333333]\n",
      " [-2.          1.          0.33333333]]\n"
     ]
    }
   ],
   "source": [
    "print(inv(A))"
   ]
  },
  {
   "cell_type": "code",
   "execution_count": 70,
   "id": "6315b0f4-a13e-4c52-aeeb-a95c72ad4ef6",
   "metadata": {},
   "outputs": [
    {
     "name": "stdout",
     "output_type": "stream",
     "text": [
      "[ 2. 34. -8.]\n"
     ]
    }
   ],
   "source": [
    "x = inv(A) @ B\n",
    "print(x)"
   ]
  },
  {
   "cell_type": "code",
   "execution_count": 71,
   "id": "c0fbe22c-5529-4d3e-854b-ebaaf62fe7f0",
   "metadata": {},
   "outputs": [
    {
     "name": "stdout",
     "output_type": "stream",
     "text": [
      "[ 1.85714286 35.85714286 -0.85714286]\n"
     ]
    }
   ],
   "source": [
    "# 4X + 2y + 4z = 44\n",
    "# 5x + 3y + 7z = 56\n",
    "# 9x + 3y + 6z = 72\n",
    "\n",
    "A = array([\n",
    "[4, 2, 41],\n",
    "[5, 3, 71],\n",
    "[9, 3, 61]\n",
    "])\n",
    "\n",
    "B = array([\n",
    "44,\n",
    "56,\n",
    "72\n",
    "])\n",
    "\n",
    "X = inv(A).dot(B)\n",
    "\n",
    "print(X)"
   ]
  },
  {
   "cell_type": "markdown",
   "id": "8c8e3ab7-a740-40b2-bd7a-9167c6b636f4",
   "metadata": {},
   "source": [
    "### Matrix Decomposition"
   ]
  },
  {
   "cell_type": "markdown",
   "id": "be9a4c7f-546b-4cef-83d1-9d3dd443d40e",
   "metadata": {},
   "source": [
    "Matrix decomposition is breaking up a matrix into its basic components, much like factoring numbers (e.g. 10 can be factored to 2 x 5).\n",
    "\n",
    "Matrix decomposition is helpful for tasks like finding inverse matrices, calculating determinants, as well as linear regression.\n",
    "\n",
    "There are many ways to decompose a matrix, but the most common method is eigendecomposition, which is often used for machine learning and Principal Component Analysis (РСА).\n",
    "\n",
    "At this level, just know eigendecomposition is helpful for breaking up a matrix into components that are easier to work with in different machine learning tasks."
   ]
  },
  {
   "cell_type": "markdown",
   "id": "21da9c49-d969-405a-80ab-a6e05f61fb5e",
   "metadata": {},
   "source": [
    "Eigendecomposition\n",
    "\n",
    "If we have a square matrix A, it has the following eigenvalue equation:\n",
    "\n",
    "Av = 20\n",
    "\n",
    "If A is the parent matrix, it has eigenvector v and eigenvalue 2 (lambda).\n",
    "\n",
    "There is one eigenvector and eigenvalue for each dimension of the parent matrix, and not all matrices can be decomposed into an eigenvector and eigenvalue.\n",
    "\n",
    "Sometimes complex (imaginary) numbers will result! To the right is how we calculate eigenvectors and eigenvalues in NumPy for a given matrix A."
   ]
  },
  {
   "cell_type": "code",
   "execution_count": 75,
   "id": "12d27d72-63e4-44f0-872c-0eaded4a6ad8",
   "metadata": {},
   "outputs": [
    {
     "name": "stdout",
     "output_type": "stream",
     "text": [
      "'EIGENVALUES\n",
      "[-0.46410162  6.46410162]\n",
      "\n",
      "EIGENVECTORS\n",
      "[[-0.80689822 -0.34372377]\n",
      " [ 0.59069049 -0.9390708 ]]\n"
     ]
    }
   ],
   "source": [
    "# Eigendecomposition\n",
    "from numpy import array, diag \n",
    "from numpy.linalg import eig, inv\n",
    "A = array([\n",
    "[1, 2],\n",
    "[4, 5]\n",
    "])\n",
    "eigenvals, eigenvecs = eig(A)\n",
    "print(\"'EIGENVALUES\")\n",
    "print(eigenvals)\n",
    "print(\"\\nEIGENVECTORS\" )\n",
    "print(eigenvecs)"
   ]
  },
  {
   "cell_type": "code",
   "execution_count": 76,
   "id": "7a15c2a1-f840-485f-9f76-d1362279f484",
   "metadata": {},
   "outputs": [
    {
     "name": "stdout",
     "output_type": "stream",
     "text": [
      "EIGENVALUES\n",
      "[-0.46410162  6.46410162]\n",
      " \n",
      "EIGENVECTORS\n",
      "[[-0.80689822 -0.34372377]\n",
      " [ 0.59069049 -0.9390708 ]]\n",
      "\n",
      "REBUILD MATRIX\n",
      "[[1. 2.]\n",
      " [4. 5.]]\n"
     ]
    }
   ],
   "source": [
    "from numpy import array, diag \n",
    "from numpy. linalg import eig, inv\n",
    "\n",
    "A = array([\n",
    "[1, 2],\n",
    "[4, 5]\n",
    "])\n",
    "\n",
    "eigenvals, eigenvecs = eig(A)\n",
    "print (\"EIGENVALUES\")\n",
    "print(eigenvals)\n",
    "print(\" \\nEIGENVECTORS\")\n",
    "print (eigenvecs)\n",
    "print(\"\\nREBUILD MATRIX\")\n",
    "Q = eigenvecs\n",
    "R = inv(Q)\n",
    "L = diag(eigenvals)\n",
    "B = Q.dot(L).dot(R)\n",
    "print(B)"
   ]
  },
  {
   "cell_type": "markdown",
   "id": "b2498eec-1a6c-44f1-9e9a-5815a71913e1",
   "metadata": {},
   "source": []
  },
  {
   "cell_type": "markdown",
   "id": "df3f16f4-4991-4ab7-bd28-dc59ab057266",
   "metadata": {},
   "source": []
  },
  {
   "cell_type": "markdown",
   "id": "5251f655-7dfb-4692-8902-0372dce5da95",
   "metadata": {},
   "source": [
    "## Exercises\n",
    "1. Vector v has a value of [1, 2] but then a transformation happens. i lands at [2, 0] and j lands at [0, 1.5]. Where does v land?\n",
    "2. Vector v has a value of [1, 2] but then a transformation happens. i lands at [-2, 1] and j lands at [1, -2]. Where does v land?\n",
    "3. A transformation i lands at [1, 0] and j lands at [2, 2]. What is the determinant of this transformation?\n",
    "4. Can two or more linear transformations be done in single linear transformation? Why or why not?\n",
    "5. Solve the system of equations for x, y, and z:\n",
    "3x+1y+0z= =54 2x + 4y + 1z = 12 3x + 1y + 8z = 6\n",
    "6. Is the following matrix linearly dependent? Why or why not?\n",
    "21 63"
   ]
  },
  {
   "cell_type": "code",
   "execution_count": 27,
   "id": "97d3bcc9-1c54-4c80-9535-a0288b7f3eae",
   "metadata": {},
   "outputs": [
    {
     "name": "stdout",
     "output_type": "stream",
     "text": [
      "[2. 3.]\n"
     ]
    }
   ],
   "source": [
    "from numpy import array\n",
    "i_hat = array([2, 0])\n",
    "j_hat = array([0, 1.5])\n",
    "basis = array([i_hat, j_hat]).transpose ()\n",
    "# print(basis)\n",
    "# declare vector v 0\n",
    "v = array([1,2])\n",
    "\n",
    "# create new vector w\n",
    "# by transforming v with dot product\n",
    "w = basis.dot(v)\n",
    "\n",
    "print(w)"
   ]
  },
  {
   "cell_type": "markdown",
   "id": "c129f742-1cb2-4639-9fe4-ca33eab9e0dc",
   "metadata": {},
   "source": [
    "[ 2, 1.5 ]"
   ]
  },
  {
   "cell_type": "markdown",
   "id": "3be46ebb-d615-4502-8147-1b0ab19535f1",
   "metadata": {},
   "source": [
    "2 task"
   ]
  },
  {
   "cell_type": "code",
   "execution_count": 25,
   "id": "a80c2200-9acc-4a72-8718-9fc89e9992ac",
   "metadata": {},
   "outputs": [
    {
     "name": "stdout",
     "output_type": "stream",
     "text": [
      "[[-2  1]\n",
      " [ 1 -2]]\n"
     ]
    }
   ],
   "source": [
    "from numpy import array\n",
    "i_hat = array([-2, 1])\n",
    "j_hat = array([1, -2])\n",
    "basis = array([i_hat, j_hat]).transpose ()\n",
    "print(basis)"
   ]
  },
  {
   "cell_type": "code",
   "execution_count": 12,
   "id": "108c2367-f8ef-44a8-b62f-d882ae47333e",
   "metadata": {},
   "outputs": [
    {
     "name": "stdout",
     "output_type": "stream",
     "text": [
      "[ 0 -3]\n"
     ]
    }
   ],
   "source": [
    "# declare vector v 0\n",
    "v = array([1,2])\n",
    "\n",
    "# create new vector w\n",
    "# by transforming v with dot product\n",
    "w = basis.dot(v)\n",
    "\n",
    "print(w)"
   ]
  },
  {
   "cell_type": "markdown",
   "id": "0d3d3526-6831-4bf2-8875-31736e85a5cf",
   "metadata": {},
   "source": [
    "3 task"
   ]
  },
  {
   "cell_type": "code",
   "execution_count": 16,
   "id": "95c0fcbb-fb22-4792-b005-aaad3fd023cd",
   "metadata": {},
   "outputs": [
    {
     "name": "stdout",
     "output_type": "stream",
     "text": [
      "2.0\n"
     ]
    }
   ],
   "source": [
    "i_hat = array([1,0])\n",
    "j_hat = array([2,2])\n",
    "\n",
    "# compose basis matrix using i-hat and j-hat\n",
    "# also need to transpose rows into columns\n",
    "basis = array([i_hat, j_hat]).transpose()\n",
    "print(det(basis))"
   ]
  },
  {
   "cell_type": "markdown",
   "id": "2cd2d600-6317-487a-8bde-ed0f850a061e",
   "metadata": {},
   "source": [
    "4 task\n",
    "\n",
    "q: Can two or more linear transformations be done in single linear transformation? Why or why not?\n",
    "\n",
    "a: you can have different linear transformation at the same time: scaling, rotating, shearing, inversioning.\n"
   ]
  },
  {
   "cell_type": "code",
   "execution_count": 21,
   "id": "9f23270a-bf1c-4a00-9ac8-225ff7dd4102",
   "metadata": {},
   "outputs": [
    {
     "name": "stdout",
     "output_type": "stream",
     "text": [
      "[19.8 -5.4 -6. ]\n"
     ]
    }
   ],
   "source": [
    "#5 task\n",
    "# 3x + 1y + 0z = 54 \n",
    "# 2x + 4y + 1z = 12 \n",
    "# 3x + 1y + 8z = 6\n",
    "\n",
    "my_matrix = array([[3,1,0],\n",
    "                   [2,4,1],\n",
    "                   [3,1,8]\n",
    "                  ])\n",
    "#print(my_matrix)\n",
    "target = array([54,12,6])\n",
    "\n",
    "x = inv(my_matrix).dot(target)\n",
    "\n",
    "print(x)"
   ]
  },
  {
   "cell_type": "code",
   "execution_count": null,
   "id": "34bee0f1-279b-4add-ad14-323620357024",
   "metadata": {},
   "outputs": [],
   "source": []
  },
  {
   "cell_type": "code",
   "execution_count": null,
   "id": "9341e2ab-d025-486b-92d0-25748f8b302a",
   "metadata": {},
   "outputs": [],
   "source": []
  },
  {
   "cell_type": "code",
   "execution_count": null,
   "id": "3dfe1337-a8f5-4380-a703-759c2a523874",
   "metadata": {},
   "outputs": [],
   "source": []
  },
  {
   "cell_type": "code",
   "execution_count": null,
   "id": "31c85d7a-18bb-4f7c-9b9c-3c2ff5f510af",
   "metadata": {},
   "outputs": [],
   "source": []
  },
  {
   "cell_type": "code",
   "execution_count": null,
   "id": "e2da3eee-66fa-4a15-b0eb-50ff564d0b61",
   "metadata": {},
   "outputs": [],
   "source": []
  },
  {
   "cell_type": "code",
   "execution_count": null,
   "id": "f55e39e3-1fc2-4c3c-9a0f-601b94a1ec4a",
   "metadata": {},
   "outputs": [],
   "source": []
  }
 ],
 "metadata": {
  "kernelspec": {
   "display_name": "Python 3 (ipykernel)",
   "language": "python",
   "name": "python3"
  },
  "language_info": {
   "codemirror_mode": {
    "name": "ipython",
    "version": 3
   },
   "file_extension": ".py",
   "mimetype": "text/x-python",
   "name": "python",
   "nbconvert_exporter": "python",
   "pygments_lexer": "ipython3",
   "version": "3.11.7"
  }
 },
 "nbformat": 4,
 "nbformat_minor": 5
}
