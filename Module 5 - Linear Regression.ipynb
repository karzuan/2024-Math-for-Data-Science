{
 "cells": [
  {
   "cell_type": "code",
   "execution_count": 27,
   "id": "fcddd260-19b4-475c-80bf-8f4bad80d276",
   "metadata": {},
   "outputs": [],
   "source": [
    "import pandas as pd\n",
    "from sympy import *\n",
    "from sympy.plotting import plot3d\n",
    "from math import log\n",
    "import seaborn as sns\n",
    "import matplotlib.pyplot as plt\n",
    "from sklearn.linear_model import LinearRegression\n",
    "import numpy as np"
   ]
  },
  {
   "cell_type": "code",
   "execution_count": 2,
   "id": "a8604808-5baf-4cac-888e-471ac3c2f655",
   "metadata": {},
   "outputs": [
    {
     "data": {
      "image/png": "[encoded data removed]",
      "text/plain": [
       "<Figure size 640x480 with 1 Axes>"
      ]
     },
     "metadata": {},
     "output_type": "display_data"
    },
    {
     "data": {
      "text/plain": [
       "<sympy.plotting.plot.Plot at 0x14b4e0190>"
      ]
     },
     "execution_count": 2,
     "metadata": {},
     "output_type": "execute_result"
    }
   ],
   "source": [
    "x = symbols('x')\n",
    "m = 100000\n",
    "b = 0\n",
    "f = m*x + b\n",
    "plot(f)"
   ]
  },
  {
   "cell_type": "code",
   "execution_count": 3,
   "id": "8ea20ff6-ef27-47de-88e4-421b9fb9a6cf",
   "metadata": {},
   "outputs": [],
   "source": [
    "# Import points\n",
    "points = pd.read_csv(\"https://bit.ly/2KF29Bd\").itertuples()\n",
    "data = pd.read_csv(\"https://bit.ly/2KF29Bd\")\n",
    "\n",
    "# Create a list from itertuples to support repeated iteration\n",
    "points = list(points)"
   ]
  },
  {
   "cell_type": "code",
   "execution_count": 4,
   "id": "2396b064-8ab4-47bc-986f-66fbd6a9825b",
   "metadata": {},
   "outputs": [
    {
     "name": "stdout",
     "output_type": "stream",
     "text": [
      "Pandas(Index=0, x=1, y=5)\n",
      "Pandas(Index=1, x=2, y=10)\n",
      "Pandas(Index=2, x=3, y=10)\n",
      "Pandas(Index=3, x=4, y=15)\n",
      "Pandas(Index=4, x=5, y=14)\n",
      "Pandas(Index=5, x=6, y=15)\n",
      "Pandas(Index=6, x=7, y=19)\n",
      "Pandas(Index=7, x=8, y=18)\n",
      "Pandas(Index=8, x=9, y=25)\n",
      "Pandas(Index=9, x=10, y=23)\n"
     ]
    }
   ],
   "source": [
    "for i in points:\n",
    "    print(i)"
   ]
  },
  {
   "cell_type": "code",
   "execution_count": 5,
   "id": "72e730ea-b269-4365-adda-0d875eddf78b",
   "metadata": {},
   "outputs": [
    {
     "name": "stdout",
     "output_type": "stream",
     "text": [
      "    x   y\n",
      "0   1   5\n",
      "1   2  10\n",
      "2   3  10\n",
      "3   4  15\n",
      "4   5  14\n",
      "5   6  15\n",
      "6   7  19\n",
      "7   8  18\n",
      "8   9  25\n",
      "9  10  23\n"
     ]
    }
   ],
   "source": [
    "print(data)"
   ]
  },
  {
   "cell_type": "code",
   "execution_count": 6,
   "id": "096b4a36-d093-4b16-a115-fdc882f5d250",
   "metadata": {},
   "outputs": [
    {
     "name": "stdout",
     "output_type": "stream",
     "text": [
      "x     6\n",
      "y    15\n",
      "Name: 5, dtype: int64\n"
     ]
    }
   ],
   "source": [
    "print(data.loc[5])"
   ]
  },
  {
   "cell_type": "code",
   "execution_count": 7,
   "id": "f1a6d910-f003-4e40-ae15-c812b97cf30b",
   "metadata": {},
   "outputs": [],
   "source": [
    "# Test with a given line\n",
    "m = 1.93939\n",
    "b = 4.73333\n",
    "sum_of_squares = 0.0"
   ]
  },
  {
   "cell_type": "code",
   "execution_count": 8,
   "id": "977aacf3-dd85-413f-8948-e586a4c4231e",
   "metadata": {},
   "outputs": [
    {
     "name": "stdout",
     "output_type": "stream",
     "text": [
      "sum of squares = 28.096969704500005\n"
     ]
    }
   ],
   "source": [
    "# calculate sum of squares\n",
    "for p in points:\n",
    "    y_actual = p.y\n",
    "    y_predict = m*p.x + b\n",
    "    residual_squared = (y_predict - y_actual) **2\n",
    "    sum_of_squares += residual_squared\n",
    "\n",
    "print(\"sum of squares = {}\".format(sum_of_squares))\n",
    "# sum of squares = 28.096969704500005"
   ]
  },
  {
   "cell_type": "code",
   "execution_count": 9,
   "id": "7b01e9dd-fb8b-4773-be2c-b983e9a06193",
   "metadata": {},
   "outputs": [],
   "source": [
    "def sum_of_squares(my_data, slope, rise):\n",
    "    sum_of_squares = 0.0\n",
    "    for p in my_data:\n",
    "        y_actual = p.y\n",
    "        y_predict = slope * p.x + rise\n",
    "        residual_squared = (y_predict - y_actual) **2\n",
    "        #print(residual_squared)\n",
    "        sum_of_squares += residual_squared\n",
    "    return sum_of_squares"
   ]
  },
  {
   "cell_type": "code",
   "execution_count": 10,
   "id": "03095df1-34f6-41ba-889b-10a408328e0c",
   "metadata": {},
   "outputs": [
    {
     "name": "stdout",
     "output_type": "stream",
     "text": [
      "28.265999999999977\n"
     ]
    }
   ],
   "source": [
    "print(sum_of_squares(points, 1.94, 4.6))"
   ]
  },
  {
   "cell_type": "markdown",
   "id": "afc2b004-0d6b-46a6-b8d8-e62734d30c42",
   "metadata": {},
   "source": [
    "## working with Linear regression from Skikit learn library"
   ]
  },
  {
   "cell_type": "code",
   "execution_count": 11,
   "id": "f46a4614-68ad-4286-ac9c-aea631a2a31b",
   "metadata": {},
   "outputs": [
    {
     "data": {
      "text/html": [
       "<div>\n",
       "<style scoped>\n",
       "    .dataframe tbody tr th:only-of-type {\n",
       "        vertical-align: middle;\n",
       "    }\n",
       "\n",
       "    .dataframe tbody tr th {\n",
       "        vertical-align: top;\n",
       "    }\n",
       "\n",
       "    .dataframe thead th {\n",
       "        text-align: right;\n",
       "    }\n",
       "</style>\n",
       "<table border=\"1\" class=\"dataframe\">\n",
       "  <thead>\n",
       "    <tr style=\"text-align: right;\">\n",
       "      <th></th>\n",
       "      <th>x</th>\n",
       "      <th>y</th>\n",
       "    </tr>\n",
       "  </thead>\n",
       "  <tbody>\n",
       "    <tr>\n",
       "      <th>0</th>\n",
       "      <td>1</td>\n",
       "      <td>5</td>\n",
       "    </tr>\n",
       "    <tr>\n",
       "      <th>1</th>\n",
       "      <td>2</td>\n",
       "      <td>10</td>\n",
       "    </tr>\n",
       "    <tr>\n",
       "      <th>2</th>\n",
       "      <td>3</td>\n",
       "      <td>10</td>\n",
       "    </tr>\n",
       "    <tr>\n",
       "      <th>3</th>\n",
       "      <td>4</td>\n",
       "      <td>15</td>\n",
       "    </tr>\n",
       "    <tr>\n",
       "      <th>4</th>\n",
       "      <td>5</td>\n",
       "      <td>14</td>\n",
       "    </tr>\n",
       "  </tbody>\n",
       "</table>\n",
       "</div>"
      ],
      "text/plain": [
       "   x   y\n",
       "0  1   5\n",
       "1  2  10\n",
       "2  3  10\n",
       "3  4  15\n",
       "4  5  14"
      ]
     },
     "execution_count": 11,
     "metadata": {},
     "output_type": "execute_result"
    }
   ],
   "source": [
    "df = pd.read_csv('https://bit.ly/3goOAnt', delimiter=\",\")\n",
    "df.head()"
   ]
  },
  {
   "cell_type": "code",
   "execution_count": 12,
   "id": "044ac523-2b54-4981-bffe-ea3b1ef9c56e",
   "metadata": {},
   "outputs": [],
   "source": [
    "# Extract input variables (all rows, all columns but last column)\n",
    "x = df.values[:, :-1]\n",
    "# Extract output column (all rows, last column)\n",
    "y = df.values[:, -1]\n",
    "# Fit a line to the points\n",
    "fit = LinearRegression().fit(x, y)"
   ]
  },
  {
   "cell_type": "code",
   "execution_count": 13,
   "id": "c407512d-af8f-4d32-be66-0331e6b7f3e0",
   "metadata": {},
   "outputs": [
    {
     "name": "stdout",
     "output_type": "stream",
     "text": [
      "m = [1.93939394]\n",
      "b = [4.73333333]\n"
     ]
    }
   ],
   "source": [
    "m = fit.coef_.flatten() # need to call flatten function, so it does;nt return multidem array\n",
    "b = fit.intercept_.flatten()\n",
    "print(\"m = {0}\".format(m)) \n",
    "print(\"b = {0}\".format(b))"
   ]
  },
  {
   "cell_type": "code",
   "execution_count": 14,
   "id": "420caaad-906f-42e6-8181-d2a1440d4603",
   "metadata": {},
   "outputs": [
    {
     "data": {
      "text/plain": [
       "<Axes: xlabel='x', ylabel='y'>"
      ]
     },
     "execution_count": 14,
     "metadata": {},
     "output_type": "execute_result"
    },
    {
     "data": {
      "image/png": "[encoded data removed]",
      "text/plain": [
       "<Figure size 800x800 with 1 Axes>"
      ]
     },
     "metadata": {},
     "output_type": "display_data"
    }
   ],
   "source": [
    "plt.figure(figsize=(8,8))\n",
    "plt.plot(x, m*x + b, color=\"red\") # line\n",
    "plt.plot(x, m*x + 3, color=\"blue\") # line\n",
    "plt.plot(x, 1.3*x + b, color=\"violet\") # line\n",
    "sns.scatterplot(x=df['x'], y=df['y'], data = df)"
   ]
  },
  {
   "cell_type": "code",
   "execution_count": null,
   "id": "74673f6c-303c-48c1-a9a5-6e6f3bd338b2",
   "metadata": {},
   "outputs": [],
   "source": []
  },
  {
   "cell_type": "code",
   "execution_count": 15,
   "id": "e92bbcea-5cea-45a7-85a4-fed970bb935f",
   "metadata": {},
   "outputs": [
    {
     "data": {
      "image/png": "[encoded data removed]",
      "text/plain": [
       "<Figure size 640x480 with 1 Axes>"
      ]
     },
     "metadata": {},
     "output_type": "display_data"
    }
   ],
   "source": [
    "plt.plot(x, y, 'o') # scatterplot\n",
    "plt.plot(x, m*x + b) # line\n",
    "plt.show()"
   ]
  },
  {
   "cell_type": "markdown",
   "id": "8a09f2c1-065c-4109-8997-cd4e99aa359e",
   "metadata": {},
   "source": [
    "### Multiple linear regression"
   ]
  },
  {
   "cell_type": "code",
   "execution_count": 16,
   "id": "e1d404f3-63f1-48e9-8b33-6c388dcbba59",
   "metadata": {},
   "outputs": [],
   "source": [
    "#y = b0 + b1*x1 + b2*x2"
   ]
  },
  {
   "cell_type": "code",
   "execution_count": 17,
   "id": "509dc5f0-bde9-454c-be5e-9391d664b7c5",
   "metadata": {},
   "outputs": [
    {
     "data": {
      "text/html": [
       "<div>\n",
       "<style scoped>\n",
       "    .dataframe tbody tr th:only-of-type {\n",
       "        vertical-align: middle;\n",
       "    }\n",
       "\n",
       "    .dataframe tbody tr th {\n",
       "        vertical-align: top;\n",
       "    }\n",
       "\n",
       "    .dataframe thead th {\n",
       "        text-align: right;\n",
       "    }\n",
       "</style>\n",
       "<table border=\"1\" class=\"dataframe\">\n",
       "  <thead>\n",
       "    <tr style=\"text-align: right;\">\n",
       "      <th></th>\n",
       "      <th>x1</th>\n",
       "      <th>x2</th>\n",
       "      <th>y</th>\n",
       "    </tr>\n",
       "  </thead>\n",
       "  <tbody>\n",
       "    <tr>\n",
       "      <th>0</th>\n",
       "      <td>0</td>\n",
       "      <td>22</td>\n",
       "      <td>88</td>\n",
       "    </tr>\n",
       "    <tr>\n",
       "      <th>1</th>\n",
       "      <td>1</td>\n",
       "      <td>13</td>\n",
       "      <td>62</td>\n",
       "    </tr>\n",
       "    <tr>\n",
       "      <th>2</th>\n",
       "      <td>1</td>\n",
       "      <td>15</td>\n",
       "      <td>67</td>\n",
       "    </tr>\n",
       "    <tr>\n",
       "      <th>3</th>\n",
       "      <td>1</td>\n",
       "      <td>14</td>\n",
       "      <td>62</td>\n",
       "    </tr>\n",
       "    <tr>\n",
       "      <th>4</th>\n",
       "      <td>2</td>\n",
       "      <td>18</td>\n",
       "      <td>77</td>\n",
       "    </tr>\n",
       "  </tbody>\n",
       "</table>\n",
       "</div>"
      ],
      "text/plain": [
       "   x1  x2   y\n",
       "0   0  22  88\n",
       "1   1  13  62\n",
       "2   1  15  67\n",
       "3   1  14  62\n",
       "4   2  18  77"
      ]
     },
     "execution_count": 17,
     "metadata": {},
     "output_type": "execute_result"
    }
   ],
   "source": [
    "# Load the data\n",
    "df = pd.read_csv('https://bit.ly/2X1HWH7', delimiter=\",\")\n",
    "df.head()"
   ]
  },
  {
   "cell_type": "code",
   "execution_count": 18,
   "id": "862f8c24-6274-410b-b6fb-305a4e4b81e7",
   "metadata": {},
   "outputs": [],
   "source": [
    "# Extract input variables (all rows, all columns but last column)\n",
    "X = df.values[:, :-1]\n",
    "# Extract output column (all rows, last column) \\a\n",
    "Y = df.values[:, -1]"
   ]
  },
  {
   "cell_type": "code",
   "execution_count": 19,
   "id": "08a17021-7604-4509-96ba-5af35bf347d3",
   "metadata": {},
   "outputs": [
    {
     "name": "stdout",
     "output_type": "stream",
     "text": [
      "Coefficients = [2.00672647 3.00203798]\n",
      "Intercept = 20.109432820035963\n"
     ]
    }
   ],
   "source": [
    "# Training\n",
    "fit = LinearRegression(). fit(X, Y)\n",
    "# Print coefficientsa\n",
    "print(\"Coefficients = {0}\".format(fit.coef_))\n",
    "print(\"Intercept = {0}\".format(fit.intercept_))"
   ]
  },
  {
   "cell_type": "code",
   "execution_count": 20,
   "id": "2305472e-1fdb-4d4b-a29c-c4f3690c027d",
   "metadata": {},
   "outputs": [
    {
     "name": "stdout",
     "output_type": "stream",
     "text": [
      "y=20.109432820035963 + 2.006726472512807x1 + 3.0020379766466925x2\n"
     ]
    }
   ],
   "source": [
    "print(\"y={0} + {1}x1 + {2}x2\".format(fit.intercept_, fit.coef_[0], fit.coef_[1]))"
   ]
  },
  {
   "cell_type": "code",
   "execution_count": 21,
   "id": "85d3c3ef-bf0d-4875-be3c-06f5c17245e4",
   "metadata": {},
   "outputs": [
    {
     "name": "stdout",
     "output_type": "stream",
     "text": [
      "0\n",
      "1\n",
      "1\n",
      "1\n",
      "2\n",
      "2\n",
      "2\n",
      "3\n",
      "3\n",
      "4\n"
     ]
    }
   ],
   "source": [
    "count = 0\n",
    "for i in df.itertuples():\n",
    "    if count < 10:\n",
    "        print(i.x1)\n",
    "    else: break\n",
    "    count+=1"
   ]
  },
  {
   "cell_type": "markdown",
   "id": "5f90387c-1ac5-4808-8c2f-6f23dd845dfa",
   "metadata": {},
   "source": [
    "continue from \"004. Fitting a Linear Regression\" 1:48"
   ]
  },
  {
   "cell_type": "code",
   "execution_count": 22,
   "id": "d86bfd14-c834-471f-81d2-567a48955232",
   "metadata": {},
   "outputs": [
    {
     "name": "stdout",
     "output_type": "stream",
     "text": [
      "1.9393939393939394 4.7333333333333325\n"
     ]
    }
   ],
   "source": [
    "# Load the data\n",
    "points = list(pd.read_csv('https://bit.ly/2KF29Bd', delimiter=\",\").itertuples())\n",
    "n = len(points)\n",
    "m = (n*sum(p.x*p.y for p in points) - sum(p.x for p in points) *\n",
    "     sum(p.y for p in points)) / (n*sum(p.x**2 for p in points) -\n",
    "                                  sum(p.x for p in points) **2)\n",
    "b = (sum(p.y for p in points) / n) - m * sum(p.x for p in points) / n\n",
    "print(m, b)\n",
    "# 1.9393939393939394 4.7333333333333325"
   ]
  },
  {
   "cell_type": "markdown",
   "id": "8993efb0-db91-4544-b8c9-c9bbbe9a760a",
   "metadata": {},
   "source": [
    "## Inverse Matrix technique\n",
    "\n",
    "b = (X^T * X)^(-1) * X^T * y"
   ]
  },
  {
   "cell_type": "code",
   "execution_count": 23,
   "id": "2fb205e8-365a-427f-b188-1e48d846a706",
   "metadata": {},
   "outputs": [
    {
     "data": {
      "text/html": [
       "<div>\n",
       "<style scoped>\n",
       "    .dataframe tbody tr th:only-of-type {\n",
       "        vertical-align: middle;\n",
       "    }\n",
       "\n",
       "    .dataframe tbody tr th {\n",
       "        vertical-align: top;\n",
       "    }\n",
       "\n",
       "    .dataframe thead th {\n",
       "        text-align: right;\n",
       "    }\n",
       "</style>\n",
       "<table border=\"1\" class=\"dataframe\">\n",
       "  <thead>\n",
       "    <tr style=\"text-align: right;\">\n",
       "      <th></th>\n",
       "      <th>x</th>\n",
       "      <th>y</th>\n",
       "    </tr>\n",
       "  </thead>\n",
       "  <tbody>\n",
       "    <tr>\n",
       "      <th>0</th>\n",
       "      <td>1</td>\n",
       "      <td>5</td>\n",
       "    </tr>\n",
       "    <tr>\n",
       "      <th>1</th>\n",
       "      <td>2</td>\n",
       "      <td>10</td>\n",
       "    </tr>\n",
       "    <tr>\n",
       "      <th>2</th>\n",
       "      <td>3</td>\n",
       "      <td>10</td>\n",
       "    </tr>\n",
       "    <tr>\n",
       "      <th>3</th>\n",
       "      <td>4</td>\n",
       "      <td>15</td>\n",
       "    </tr>\n",
       "    <tr>\n",
       "      <th>4</th>\n",
       "      <td>5</td>\n",
       "      <td>14</td>\n",
       "    </tr>\n",
       "  </tbody>\n",
       "</table>\n",
       "</div>"
      ],
      "text/plain": [
       "   x   y\n",
       "0  1   5\n",
       "1  2  10\n",
       "2  3  10\n",
       "3  4  15\n",
       "4  5  14"
      ]
     },
     "execution_count": 23,
     "metadata": {},
     "output_type": "execute_result"
    }
   ],
   "source": [
    "from numpy.linalg import inv\n",
    "# Import points\n",
    "df = pd.read_csv('https://bit.ly/3goOAnt', delimiter=\",\")\n",
    "df.head()"
   ]
  },
  {
   "cell_type": "code",
   "execution_count": 36,
   "id": "cc7655e6-0180-49be-be17-2797c20739c8",
   "metadata": {},
   "outputs": [
    {
     "data": {
      "text/plain": [
       "array([[ 1],\n",
       "       [ 2],\n",
       "       [ 3],\n",
       "       [ 4],\n",
       "       [ 5],\n",
       "       [ 6],\n",
       "       [ 7],\n",
       "       [ 8],\n",
       "       [ 9],\n",
       "       [10]])"
      ]
     },
     "execution_count": 36,
     "metadata": {},
     "output_type": "execute_result"
    }
   ],
   "source": [
    "x_0 = df.values[:, :-1]\n",
    "x_0"
   ]
  },
  {
   "cell_type": "code",
   "execution_count": 29,
   "id": "955a4849-3385-4d0b-9e9e-103709669b97",
   "metadata": {},
   "outputs": [
    {
     "data": {
      "text/plain": [
       "array([ 1,  2,  3,  4,  5,  6,  7,  8,  9, 10])"
      ]
     },
     "execution_count": 29,
     "metadata": {},
     "output_type": "execute_result"
    }
   ],
   "source": [
    "# Extract input variables (all rows, all columns but last column)\n",
    "X = df.values[:, :-1].flatten()\n",
    "X"
   ]
  },
  {
   "cell_type": "code",
   "execution_count": 37,
   "id": "f41ec544-4e5b-41c6-ac8c-e5fae11d4f7f",
   "metadata": {},
   "outputs": [
    {
     "data": {
      "text/plain": [
       "array([[ 1.,  2.,  3.,  4.,  5.,  6.,  7.,  8.,  9., 10.],\n",
       "       [ 1.,  1.,  1.,  1.,  1.,  1.,  1.,  1.,  1.,  1.]])"
      ]
     },
     "execution_count": 37,
     "metadata": {},
     "output_type": "execute_result"
    }
   ],
   "source": [
    "x_111 = np.vstack([X, np.ones(len(X))])\n",
    "x_111"
   ]
  },
  {
   "cell_type": "code",
   "execution_count": 28,
   "id": "85d40aa6-31e6-4e46-9314-3156802f15cd",
   "metadata": {},
   "outputs": [
    {
     "name": "stdout",
     "output_type": "stream",
     "text": [
      "[[ 1.  1.]\n",
      " [ 2.  1.]\n",
      " [ 3.  1.]\n",
      " [ 4.  1.]\n",
      " [ 5.  1.]\n",
      " [ 6.  1.]\n",
      " [ 7.  1.]\n",
      " [ 8.  1.]\n",
      " [ 9.  1.]\n",
      " [10.  1.]]\n"
     ]
    }
   ],
   "source": [
    "# Add placeholder \"1\" column to generate intercept\n",
    "X_1 = np.vstack([X, np.ones(len(X))]).T\n",
    "print(X_1)"
   ]
  },
  {
   "cell_type": "code",
   "execution_count": 38,
   "id": "03f30c01-8ac1-46bf-a0c3-3db8058f0782",
   "metadata": {},
   "outputs": [
    {
     "data": {
      "text/plain": [
       "array([[ 1.,  2.,  3.,  4.,  5.,  6.,  7.,  8.,  9., 10.],\n",
       "       [ 1.,  1.,  1.,  1.,  1.,  1.,  1.,  1.,  1.,  1.]])"
      ]
     },
     "execution_count": 38,
     "metadata": {},
     "output_type": "execute_result"
    }
   ],
   "source": [
    "X_1.transpose()"
   ]
  },
  {
   "cell_type": "code",
   "execution_count": 30,
   "id": "ae41e789-d3c0-4c1e-8be7-ed1631644662",
   "metadata": {},
   "outputs": [
    {
     "data": {
      "text/plain": [
       "array([ 5, 10, 10, 15, 14, 15, 19, 18, 25, 23])"
      ]
     },
     "execution_count": 30,
     "metadata": {},
     "output_type": "execute_result"
    }
   ],
   "source": [
    "# Extract output column (all rows, last column)\n",
    "Y = df.values[:, -1]\n",
    "Y"
   ]
  },
  {
   "cell_type": "code",
   "execution_count": 39,
   "id": "42afe07e-c340-4ee6-8043-824ae5faf713",
   "metadata": {},
   "outputs": [
    {
     "name": "stdout",
     "output_type": "stream",
     "text": [
      "[1.93939394 4.73333333]\n"
     ]
    }
   ],
   "source": [
    "# Calculate coefficents for slope and intercept\n",
    "b = inv(X_1.transpose() @ X_1 ) @ ( X_1.transpose() @ Y )\n",
    "print(b) "
   ]
  },
  {
   "cell_type": "code",
   "execution_count": 40,
   "id": "63c5bd32-a19e-4762-b20c-4799670b1ce6",
   "metadata": {},
   "outputs": [
    {
     "name": "stdout",
     "output_type": "stream",
     "text": [
      "[ 6.67272727  8.61212121 10.55151515 12.49090909 14.43030303 16.36969697\n",
      " 18.30909091 20.24848485 22.18787879 24.12727273]\n"
     ]
    }
   ],
   "source": [
    "# Predict against the Y valies\n",
    "y_predict = X_1.dot(b)\n",
    "print(y_predict)"
   ]
  },
  {
   "cell_type": "code",
   "execution_count": 41,
   "id": "35bda712-be87-4bb0-8267-d3a9bbe0f01f",
   "metadata": {},
   "outputs": [
    {
     "name": "stdout",
     "output_type": "stream",
     "text": [
      "[ 5 10 10 15 14 15 19 18 25 23]\n"
     ]
    }
   ],
   "source": [
    "print(y)"
   ]
  },
  {
   "cell_type": "code",
   "execution_count": 44,
   "id": "a9b12107-acb9-482b-a1b4-0c9c2fb52273",
   "metadata": {},
   "outputs": [],
   "source": [
    "df_new = pd.DataFrame({\n",
    "    'y_actual': y,\n",
    "    'y_predicted': y_predict\n",
    "})"
   ]
  },
  {
   "cell_type": "code",
   "execution_count": 45,
   "id": "1d00d06f-1c84-4b8f-b8d7-fd1730aff391",
   "metadata": {},
   "outputs": [
    {
     "data": {
      "text/html": [
       "<div>\n",
       "<style scoped>\n",
       "    .dataframe tbody tr th:only-of-type {\n",
       "        vertical-align: middle;\n",
       "    }\n",
       "\n",
       "    .dataframe tbody tr th {\n",
       "        vertical-align: top;\n",
       "    }\n",
       "\n",
       "    .dataframe thead th {\n",
       "        text-align: right;\n",
       "    }\n",
       "</style>\n",
       "<table border=\"1\" class=\"dataframe\">\n",
       "  <thead>\n",
       "    <tr style=\"text-align: right;\">\n",
       "      <th></th>\n",
       "      <th>y_actual</th>\n",
       "      <th>y_predicted</th>\n",
       "    </tr>\n",
       "  </thead>\n",
       "  <tbody>\n",
       "    <tr>\n",
       "      <th>0</th>\n",
       "      <td>5</td>\n",
       "      <td>6.672727</td>\n",
       "    </tr>\n",
       "    <tr>\n",
       "      <th>1</th>\n",
       "      <td>10</td>\n",
       "      <td>8.612121</td>\n",
       "    </tr>\n",
       "    <tr>\n",
       "      <th>2</th>\n",
       "      <td>10</td>\n",
       "      <td>10.551515</td>\n",
       "    </tr>\n",
       "    <tr>\n",
       "      <th>3</th>\n",
       "      <td>15</td>\n",
       "      <td>12.490909</td>\n",
       "    </tr>\n",
       "    <tr>\n",
       "      <th>4</th>\n",
       "      <td>14</td>\n",
       "      <td>14.430303</td>\n",
       "    </tr>\n",
       "    <tr>\n",
       "      <th>5</th>\n",
       "      <td>15</td>\n",
       "      <td>16.369697</td>\n",
       "    </tr>\n",
       "    <tr>\n",
       "      <th>6</th>\n",
       "      <td>19</td>\n",
       "      <td>18.309091</td>\n",
       "    </tr>\n",
       "    <tr>\n",
       "      <th>7</th>\n",
       "      <td>18</td>\n",
       "      <td>20.248485</td>\n",
       "    </tr>\n",
       "    <tr>\n",
       "      <th>8</th>\n",
       "      <td>25</td>\n",
       "      <td>22.187879</td>\n",
       "    </tr>\n",
       "    <tr>\n",
       "      <th>9</th>\n",
       "      <td>23</td>\n",
       "      <td>24.127273</td>\n",
       "    </tr>\n",
       "  </tbody>\n",
       "</table>\n",
       "</div>"
      ],
      "text/plain": [
       "   y_actual  y_predicted\n",
       "0         5     6.672727\n",
       "1        10     8.612121\n",
       "2        10    10.551515\n",
       "3        15    12.490909\n",
       "4        14    14.430303\n",
       "5        15    16.369697\n",
       "6        19    18.309091\n",
       "7        18    20.248485\n",
       "8        25    22.187879\n",
       "9        23    24.127273"
      ]
     },
     "execution_count": 45,
     "metadata": {},
     "output_type": "execute_result"
    }
   ],
   "source": [
    "df_new"
   ]
  },
  {
   "cell_type": "code",
   "execution_count": 46,
   "id": "53f493c4-a733-4270-a28a-e9ffdf271496",
   "metadata": {},
   "outputs": [
    {
     "data": {
      "text/html": [
       "<div>\n",
       "<style scoped>\n",
       "    .dataframe tbody tr th:only-of-type {\n",
       "        vertical-align: middle;\n",
       "    }\n",
       "\n",
       "    .dataframe tbody tr th {\n",
       "        vertical-align: top;\n",
       "    }\n",
       "\n",
       "    .dataframe thead th {\n",
       "        text-align: right;\n",
       "    }\n",
       "</style>\n",
       "<table border=\"1\" class=\"dataframe\">\n",
       "  <thead>\n",
       "    <tr style=\"text-align: right;\">\n",
       "      <th></th>\n",
       "      <th>y_actual</th>\n",
       "      <th>y_predicted</th>\n",
       "      <th>delta</th>\n",
       "    </tr>\n",
       "  </thead>\n",
       "  <tbody>\n",
       "    <tr>\n",
       "      <th>0</th>\n",
       "      <td>5</td>\n",
       "      <td>6.672727</td>\n",
       "      <td>-1.672727</td>\n",
       "    </tr>\n",
       "    <tr>\n",
       "      <th>1</th>\n",
       "      <td>10</td>\n",
       "      <td>8.612121</td>\n",
       "      <td>1.387879</td>\n",
       "    </tr>\n",
       "    <tr>\n",
       "      <th>2</th>\n",
       "      <td>10</td>\n",
       "      <td>10.551515</td>\n",
       "      <td>-0.551515</td>\n",
       "    </tr>\n",
       "    <tr>\n",
       "      <th>3</th>\n",
       "      <td>15</td>\n",
       "      <td>12.490909</td>\n",
       "      <td>2.509091</td>\n",
       "    </tr>\n",
       "    <tr>\n",
       "      <th>4</th>\n",
       "      <td>14</td>\n",
       "      <td>14.430303</td>\n",
       "      <td>-0.430303</td>\n",
       "    </tr>\n",
       "    <tr>\n",
       "      <th>5</th>\n",
       "      <td>15</td>\n",
       "      <td>16.369697</td>\n",
       "      <td>-1.369697</td>\n",
       "    </tr>\n",
       "    <tr>\n",
       "      <th>6</th>\n",
       "      <td>19</td>\n",
       "      <td>18.309091</td>\n",
       "      <td>0.690909</td>\n",
       "    </tr>\n",
       "    <tr>\n",
       "      <th>7</th>\n",
       "      <td>18</td>\n",
       "      <td>20.248485</td>\n",
       "      <td>-2.248485</td>\n",
       "    </tr>\n",
       "    <tr>\n",
       "      <th>8</th>\n",
       "      <td>25</td>\n",
       "      <td>22.187879</td>\n",
       "      <td>2.812121</td>\n",
       "    </tr>\n",
       "    <tr>\n",
       "      <th>9</th>\n",
       "      <td>23</td>\n",
       "      <td>24.127273</td>\n",
       "      <td>-1.127273</td>\n",
       "    </tr>\n",
       "  </tbody>\n",
       "</table>\n",
       "</div>"
      ],
      "text/plain": [
       "   y_actual  y_predicted     delta\n",
       "0         5     6.672727 -1.672727\n",
       "1        10     8.612121  1.387879\n",
       "2        10    10.551515 -0.551515\n",
       "3        15    12.490909  2.509091\n",
       "4        14    14.430303 -0.430303\n",
       "5        15    16.369697 -1.369697\n",
       "6        19    18.309091  0.690909\n",
       "7        18    20.248485 -2.248485\n",
       "8        25    22.187879  2.812121\n",
       "9        23    24.127273 -1.127273"
      ]
     },
     "execution_count": 46,
     "metadata": {},
     "output_type": "execute_result"
    }
   ],
   "source": [
    "df_new['delta'] = df_new['y_actual'] - df_new['y_predicted']\n",
    "df_new"
   ]
  },
  {
   "cell_type": "markdown",
   "id": "cd303368-21e9-4965-a54c-fcca897d319d",
   "metadata": {},
   "source": [
    "## QR Decomposition Technique\n",
    "\n",
    "A more computationally stable method is to use QR Decomposition.\n",
    "\n",
    "Use NumPy's qr () function to break up a matrix into Q and R components.\n",
    "\n",
    "Plug it into this formula to get the vector b containing the slope(s) and intercept.\n",
    "\n",
    "X =Q•R\n",
    "\n",
    "b = R^(-1) * Q^T * y"
   ]
  },
  {
   "cell_type": "code",
   "execution_count": 52,
   "id": "57546fd0-4c63-4854-a710-a298d16b35ab",
   "metadata": {},
   "outputs": [],
   "source": [
    "from numpy.linalg import qr, inv\n",
    "# Import points\n",
    "df = pd.read_csv('https://bit.ly/3goOAnt', delimiter=\",\")\n",
    "# Extract input variables (all rows, all columns but last column)\n",
    "X = df.values[:, :-1]. flatten()\n",
    "# Add placeholder \"1\" column to generate intercept\n",
    "X_1 = np.vstack([X, np.ones(len(X))]).transpose()\n",
    "# Extract output column (all rows, last column)\n",
    "Y = df.values[:, -1]"
   ]
  },
  {
   "cell_type": "code",
   "execution_count": 53,
   "id": "a26644a6-f4d3-4842-bd9c-3adb120caa91",
   "metadata": {},
   "outputs": [
    {
     "name": "stdout",
     "output_type": "stream",
     "text": [
      "[1.93939394 4.73333333]\n"
     ]
    }
   ],
   "source": [
    "# calculate coefficents for slope and intercept\n",
    "# using QR decomposition\n",
    "Q, R = qr(X_1)\n",
    "b = inv(R).dot(Q.transpose()).dot(Y)\n",
    "print(b) # [1.93939394, 4.73333333]"
   ]
  },
  {
   "cell_type": "markdown",
   "id": "42dad53e-e963-4724-9ab5-339d7eb933c3",
   "metadata": {},
   "source": [
    "## Hill Climbing\n",
    "While the aforementioned techniques are best practice, \"hill climbing\" provides an interesting introduction to optimization.\n",
    "We randomly adjust m and b by adding random values from a standard normal distribution.\n",
    "On each random adjustment, if the sum of squares improves, we keep those adjustments to m and b, otherwise we revert them back.\n",
    "We do this for a fixed number of iterations (enough to experience a diminishing return) and then we should have well-approximated m and b coefficients."
   ]
  },
  {
   "cell_type": "markdown",
   "id": "7b17f911-8f4e-418c-a8b1-b5a3c00df942",
   "metadata": {},
   "source": [
    "continue from \"Hill Climbing\" on 11:00"
   ]
  },
  {
   "cell_type": "code",
   "execution_count": 56,
   "id": "97a7424f-c9a3-422f-b7de-aa55f7613597",
   "metadata": {},
   "outputs": [
    {
     "data": {
      "text/plain": [
       "[Pandas(Index=0, x=1, y=5),\n",
       " Pandas(Index=1, x=2, y=10),\n",
       " Pandas(Index=2, x=3, y=10),\n",
       " Pandas(Index=3, x=4, y=15),\n",
       " Pandas(Index=4, x=5, y=14),\n",
       " Pandas(Index=5, x=6, y=15),\n",
       " Pandas(Index=6, x=7, y=19),\n",
       " Pandas(Index=7, x=8, y=18),\n",
       " Pandas(Index=8, x=9, y=25),\n",
       " Pandas(Index=9, x=10, y=23)]"
      ]
     },
     "execution_count": 56,
     "metadata": {},
     "output_type": "execute_result"
    }
   ],
   "source": [
    "from numpy.random import normal \n",
    "import pandas as pd\n",
    "\n",
    "# Import points from CSV\n",
    "points = [p for p in pd.read_csv(\"https://bit.ly/2KF29Bd\").itertuples()]\n",
    "points"
   ]
  },
  {
   "cell_type": "code",
   "execution_count": 62,
   "id": "774b8f18-e923-4354-b934-86f91c0203cb",
   "metadata": {},
   "outputs": [
    {
     "name": "stdout",
     "output_type": "stream",
     "text": [
      "y = -0.0957094424911202x + -0.40572115028044453\n",
      "y = 0.4737624444625491x + -0.5811285720999007\n",
      "y = 0.4484861548303706x + 1.1520205796160603\n",
      "y = 1.4071039090996948x + 2.1116558252265376\n",
      "y = 2.2143055134085854x + 1.9926836266204124\n",
      "y = 2.0852963901920116x + 3.906947978291547\n",
      "y = 1.9109213831492418x + 4.889847771336282\n",
      "y = 1.9234223970416657x + 4.819725835987043\n",
      "y = 1.9425818974714306x + 4.685998762970253\n",
      "y = 1.9423182971058843x + 4.6892534102973595\n",
      "y = 1.9324818841757334x + 4.753030598707928\n",
      "y = 1.939701718759831x + 4.711421877412391\n",
      "y = 1.9452820014229317x + 4.698451642481613\n",
      "y = 1.9404561946040426x + 4.721784799459784\n",
      "y = 1.940456194604022x + 4.721784799459789\n"
     ]
    }
   ],
   "source": [
    "# Building the model\n",
    "m = 0.0\n",
    "b = 0.0\n",
    "# The number of iterations to perform\n",
    "iterations = 150000\n",
    "# Number of points\n",
    "n = float(len(points))\n",
    "# Initialize with a really large loss\n",
    "# that we know will get replaced\n",
    "best_loss = 10000000000000.0\n",
    "\n",
    "for i in range(iterations):\n",
    "    # Randomly adjust \"m\" and \"b\"\n",
    "    m_adjust = normal(0,1)\n",
    "    b_adjust = normal(0,1)\n",
    "    m += m_adjust\n",
    "    b += b_adjust\n",
    "    # Calculate loss, which is total sum squared error\n",
    "    new_loss = 0.0\n",
    "    for p in points:\n",
    "        new_loss += (p.y - (m * p.x + b)) **2 # If loss has improved, keep new values.# Otherwise revert.\n",
    "    if new_loss < best_loss:\n",
    "        print(\"y = {0}x + {1}\". format(m, b))\n",
    "        best_loss = new_loss\n",
    "    else:\n",
    "        m -= m_adjust\n",
    "        b -= b_adjust\n",
    "\n",
    "print(\"y = {0}x + {1}\".format(m, b))\n",
    "# RANDOM OUTCOME:\n",
    "# у = 1.9371415770489468x + 4.740472482846922"
   ]
  },
  {
   "cell_type": "code",
   "execution_count": 71,
   "id": "9d17860b-2362-42b4-b870-7733561284b5",
   "metadata": {},
   "outputs": [
    {
     "name": "stdout",
     "output_type": "stream",
     "text": [
      "0.17240533479177308\n",
      "0.9872915977426174\n",
      "1.2906349040153604\n",
      "0.4947327009658447\n",
      "-0.185326262514141\n",
      "-0.6472812605491804\n",
      "0.5465397470360438\n",
      "0.3807738203951059\n",
      "-1.4800788864421452\n",
      "-0.2439923760237565\n",
      "1.4344350765697844\n",
      "0.09400409372409624\n",
      "-0.0498314314771093\n",
      "0.4583874174505809\n",
      "-0.1775881782937255\n",
      "-1.375689303369975\n",
      "-0.758254785424181\n",
      "-2.338769958667265\n",
      "2.705229358742943\n",
      "0.5243905763626682\n"
     ]
    }
   ],
   "source": [
    "for i in range(20):\n",
    "    print(normal(0,1))"
   ]
  },
  {
   "cell_type": "markdown",
   "id": "e8db38b6-bb45-44d0-ba91-12707af1865d",
   "metadata": {},
   "source": [
    "### Plotting Sum of Squares Loss Landscape"
   ]
  },
  {
   "cell_type": "code",
   "execution_count": 75,
   "id": "4b9c255b-d8b4-4433-b3ce-4bc837cd8dc2",
   "metadata": {},
   "outputs": [
    {
     "data": {
      "image/png": "[encoded data removed]",
      "text/plain": [
       "<Figure size 640x480 with 1 Axes>"
      ]
     },
     "metadata": {},
     "output_type": "display_data"
    },
    {
     "data": {
      "text/plain": [
       "<sympy.plotting.plot.Plot at 0x15598a890>"
      ]
     },
     "execution_count": 75,
     "metadata": {},
     "output_type": "execute_result"
    }
   ],
   "source": [
    "from sympy import * \n",
    "from sympy.plotting import plot3d \n",
    "\n",
    "points = list(pd.read_csv(\"https://bit.ly/2KF29Bd\").itertuples())\n",
    "m, b, i, n = symbols('m b i n')\n",
    "x, y = symbols('x y', cls=Function)\n",
    "sum_of_squares = Sum((m*x(i) + b - y (i)) ** 2, (i, 0, n)) \\\n",
    ".subs(n, len(points) - 1).doit() \\\n",
    ".replace(x, lambda i: points[i].x) \\\n",
    ".replace(y, lambda i: points[i].y)\n",
    "plot3d (sum_of_squares)"
   ]
  },
  {
   "cell_type": "markdown",
   "id": "62fe9ad7-e057-457b-8242-26219ceddb0b",
   "metadata": {},
   "source": [
    "### Partial Derivatives with SymPy"
   ]
  },
  {
   "cell_type": "code",
   "execution_count": 80,
   "id": "024cf747-1d89-40fa-bdf5-1688057604f7",
   "metadata": {},
   "outputs": [
    {
     "name": "stdout",
     "output_type": "stream",
     "text": [
      "Sum(2*(b + m*x(i) - y(i))*x(i), (i, 0, n))\n",
      "Sum(2*b + 2*m*x(i) - 2*y(i), (i, 0, n))\n"
     ]
    }
   ],
   "source": [
    "sum_of_squares = Sum((m*x(i) + b - y (i)) ** 2, (i, 0, n))\n",
    "\n",
    "d_m = diff(sum_of_squares, m)\n",
    "d_b = diff(sum_of_squares, b)\n",
    "print(d_m)\n",
    "print(d_b)"
   ]
  },
  {
   "cell_type": "markdown",
   "id": "d22f6a94-5d6c-4b4f-b300-6a4f923f7335",
   "metadata": {},
   "source": [
    "## Gradient Descent\n",
    "For a simple linear regression fitting to y = mx + b\n",
    "\n",
    "let's use the following sum of squares loss function. The derivative with respect to m and b.\n",
    "\n",
    "To the right is the loss sum of squares landscape with respect to m and b for a simple linear regression."
   ]
  },
  {
   "cell_type": "code",
   "execution_count": null,
   "id": "309b1407-b903-484e-8349-033e4583d7d0",
   "metadata": {},
   "outputs": [],
   "source": [
    "# Import points from CSV\n",
    "points = [p for p in pd.read_csv(\"https://bit.ly/2KF29Bd\").itertuples()]\n",
    "points"
   ]
  },
  {
   "cell_type": "code",
   "execution_count": 81,
   "id": "5b334db4-b21c-4b13-b49d-f2f02b6dfc59",
   "metadata": {},
   "outputs": [
    {
     "name": "stdout",
     "output_type": "stream",
     "text": [
      "y = 1.9393939393939548x + 4.733333333333227\n"
     ]
    }
   ],
   "source": [
    "# Building the model\n",
    "m = 0.0\n",
    "b = 0.0\n",
    "\n",
    "# The number of iterations to perform\n",
    "iterations = 100000\n",
    "\n",
    "# Learning rate\n",
    "L = .001\n",
    "\n",
    "# count num of elements\n",
    "n = float(len(points))\n",
    "n\n",
    "\n",
    "for i in range(iterations):\n",
    "    # slope with respect to m\n",
    "    D_m = sum ( 2 * p.x * ((m* p.x + b) - p.y ) for p in points)\n",
    "    # slope with respect to b\n",
    "    D_b = sum ( 2 * ((m * p.x + b) - p.y) for p in points)\n",
    "    # update m and b\n",
    "    m -= L*D_m\n",
    "    b -= L*D_b\n",
    "\n",
    "print(\"y = {}x + {}\".format(m, b))"
   ]
  },
  {
   "cell_type": "markdown",
   "id": "bf22d0cd-e5f5-4140-ae74-f118e125d8ac",
   "metadata": {},
   "source": [
    "## 005. Overfitting, Variance, and RidgeLasso Regression"
   ]
  },
  {
   "cell_type": "markdown",
   "id": "44f3b37d-bd1d-4241-b304-007cbd905d71",
   "metadata": {},
   "source": [
    "Overfitting means that our model works well with the data it was trained on but fails to predict correctly with new data.\n",
    "- This can be due to many factors, but a common cause is the sampled data is too small, biased, or not representative of the population.\n",
    "- The red \"connect-the-dots\" model has high variance, meaning its predictions are sensitive to outliers and therefore can vary greatly.\n",
    "- The blue linear regression has high bias, meaning the model is less sensitive to outliers because it prioritizes a method (maintaining a straight line) rather than bend and respond to the data.\n",
    "\n",
    "The red \"connect-the-dots\" model to the right is likely overfitted (high variance, low bias), but the blue linear regression line (low variance, high bias) is less likely to be overfit."
   ]
  },
  {
   "cell_type": "markdown",
   "id": "ec7ef759-aef1-409b-9a37-cf4849c8cb01",
   "metadata": {},
   "source": [
    "### Overfitting\n",
    "Linear regression is a highly biased method and is resilient to overfitting.\n",
    "When you hear someone say a regression \"memorized\" the data rather than generalizing it, they are talking about overfitting.\n",
    "There are other remedies to mitigate overfitting, the most basic being separating training data and test data.\n",
    "\n",
    "- The model is fit to the training data, and then is tested with the test data.\n",
    "- If the test data performs poorly compared to the training data, there is a possibility of overfit (or just no correlation altogether).\n",
    "\n",
    "<b>We will learn some techniques to assess a linear regression's performance on data it has not seen yet.</b>"
   ]
  },
  {
   "cell_type": "markdown",
   "id": "7662413b-98d5-4ed9-8f80-b5f4e2e25d77",
   "metadata": {},
   "source": [
    "## Ridge Regression (L2)\n",
    "\n",
    "Sometimes we want to increase the bias of our model, so it is less sensitive to variance in the training data.\n",
    "\n",
    "This can especially be the case when we do not have much data and are worried about overfitting.\n",
    "    \n",
    "This is where ridge regression can be used, which minimizes not just on the sum/mean of squares but also a penalty value that is introduced."
   ]
  },
  {
   "cell_type": "markdown",
   "id": "e445b22c-b622-4069-bc3e-124dd453ba9c",
   "metadata": {},
   "source": [
    "Notice to the right how we have trained our linear regression with the training data (red points) to the right.\n",
    "But we are concerned with actual/testing data (blue points) which shows this linear regression is not predicting very well.\n",
    "One thing we can do is increase the bias of our linear regression and make it less sensitive to the training data."
   ]
  },
  {
   "cell_type": "markdown",
   "id": "61ba931b-3ec7-4b45-ab01-bfc5de3eb214",
   "metadata": {},
   "source": [
    "A ridge regression might adjust our linear regression as shown with the green line to the right.\n",
    "This way it reduces the fit to our training data, increasing our bias and dropping our variance.\n",
    "To implement our ridge regression, we modify our loss function as follows:\n",
    "\n",
    "Loss = (Sum of squares) + Lambda × slope^2\n",
    "\n",
    "If we have multiple independent variables, each one gets its own Lambda x slope^2 term."
   ]
  },
  {
   "cell_type": "markdown",
   "id": "475dcb71-150c-4186-8153-70527b0f98ef",
   "metadata": {},
   "source": [
    "This lambda x slope^2 is a penalty to the least squares which prevents overfitting.\n",
    "The lambda is a parameter to define how severe our\n",
    "penalty is (higher = less overfitting), and often\n",
    "optimized based on cross validation.\n",
    "When we execute training on our data, we will get a less overfit result."
   ]
  },
  {
   "cell_type": "code",
   "execution_count": 86,
   "id": "d1691ae6-83b9-458a-b075-b1fe8a998e4b",
   "metadata": {},
   "outputs": [
    {
     "name": "stdout",
     "output_type": "stream",
     "text": [
      "      fixed_acidity  volatile_acidity  citric_acid  residual_sugar  chlorides  \\\n",
      "0               7.4             0.700         0.00             1.9      0.076   \n",
      "1               7.8             0.880         0.00             2.6      0.098   \n",
      "2               7.8             0.760         0.04             2.3      0.092   \n",
      "3              11.2             0.280         0.56             1.9      0.075   \n",
      "4               7.4             0.700         0.00             1.9      0.076   \n",
      "...             ...               ...          ...             ...        ...   \n",
      "1594            6.2             0.600         0.08             2.0      0.090   \n",
      "1595            5.9             0.550         0.10             2.2      0.062   \n",
      "1596            6.3             0.510         0.13             2.3      0.076   \n",
      "1597            5.9             0.645         0.12             2.0      0.075   \n",
      "1598            6.0             0.310         0.47             3.6      0.067   \n",
      "\n",
      "      free_sulfur_dioxide  total_sulfur_dioxide  density    ph  sulphates  \\\n",
      "0                    11.0                  34.0  0.99780  3.51       0.56   \n",
      "1                    25.0                  67.0  0.99680  3.20       0.68   \n",
      "2                    15.0                  54.0  0.99700  3.26       0.65   \n",
      "3                    17.0                  60.0  0.99800  3.16       0.58   \n",
      "4                    11.0                  34.0  0.99780  3.51       0.56   \n",
      "...                   ...                   ...      ...   ...        ...   \n",
      "1594                 32.0                  44.0  0.99490  3.45       0.58   \n",
      "1595                 39.0                  51.0  0.99512  3.52       0.76   \n",
      "1596                 29.0                  40.0  0.99574  3.42       0.75   \n",
      "1597                 32.0                  44.0  0.99547  3.57       0.71   \n",
      "1598                 18.0                  42.0  0.99549  3.39       0.66   \n",
      "\n",
      "      alcohol  quality  \n",
      "0         9.4        5  \n",
      "1         9.8        5  \n",
      "2         9.8        5  \n",
      "3         9.8        6  \n",
      "4         9.4        5  \n",
      "...       ...      ...  \n",
      "1594     10.5        5  \n",
      "1595     11.2        6  \n",
      "1596     11.0        6  \n",
      "1597     10.2        5  \n",
      "1598     11.0        6  \n",
      "\n",
      "[1599 rows x 12 columns]\n"
     ]
    }
   ],
   "source": [
    "import pandas as pd \n",
    "from sklearn.linear_model import Ridge, LinearRegression \n",
    "from sklearn.model_selection import KFold, cross_val_score\n",
    "\n",
    "# Wine quality data\n",
    "df = pd.read_csv ('https://bit.ly/39uuK7J', delimiter=\",\")\n",
    "print(df)"
   ]
  },
  {
   "cell_type": "code",
   "execution_count": 91,
   "id": "5617c229-f2a8-4a96-8c9d-3fb0e0901118",
   "metadata": {},
   "outputs": [
    {
     "name": "stdout",
     "output_type": "stream",
     "text": [
      "[ 0.0134762  -1.10606693 -0.19832796  0.00754172 -1.34484932  0.00449295\n",
      " -0.00321945 -0.02068421 -0.43768992  0.81780861  0.29833937]\n",
      "[4.16024211]\n"
     ]
    }
   ],
   "source": [
    "# Extract input variables (all rows, all columns but last column)\n",
    "X = df.values[:, :-1]\n",
    "# Extract output column (all rows, last column)\n",
    "Y = df.values[:, -1]\n",
    "# Ridge regression with 1.0 penalty\n",
    "model = Ridge(alpha=1.0)\n",
    "fit = model.fit(X, Y)\n",
    "# print coefficents\n",
    "print(fit.coef_.flatten())\n",
    "print(fit.intercept_.flatten())"
   ]
  },
  {
   "cell_type": "markdown",
   "id": "9a3a5620-6223-4721-876c-c37ed5ea693c",
   "metadata": {},
   "source": [
    "## Lasso Regression (L1)\n",
    "\n",
    "Lasso regression is similar to ridge regression, except it takes the absolute values of the slope(s) rather than square them.\n",
    "    \n",
    "Loss = (Sum of squares) + Lambda × |slope|\n",
    "    \n",
    "If there are several independent variables, each variable gets its own Labmda x |slope|\n",
    "    \n",
    "Lasso regression is handy when you may have variables that create noise and are irrelevant, and it will exclude those useless variables."
   ]
  },
  {
   "cell_type": "code",
   "execution_count": 97,
   "id": "f0052943-fd70-477e-8627-9853954ebd5a",
   "metadata": {},
   "outputs": [
    {
     "name": "stdout",
     "output_type": "stream",
     "text": [
      "[ 0.031408   -0.          0.          0.         -0.          0.00571672\n",
      " -0.00377281 -0.         -0.          0.          0.25583985]\n",
      "[2.79266664]\n"
     ]
    }
   ],
   "source": [
    "from sklearn.linear_model import Ridge, LinearRegression, Lasso\n",
    "from sklearn.model_selection import KFold, cross_val_score\n",
    "\n",
    "# Wine quality data\n",
    "df = pd.read_csv('https://bit.ly/39uuK7J', delimiter=\",\")\n",
    "#print(df)\n",
    "# Extract input variables (all rows, all columns but last column)\n",
    "X = df.values[:, :-1]\n",
    "# Extract output column (all rows, last column)\n",
    "Y = df.values[:, -1]\n",
    "# Lasso regression with 0.1 penalty\n",
    "model = Lasso(alpha=0.1)\n",
    "fit = model.fit(X, Y)\n",
    "# print coefficents\n",
    "print(fit.coef_.flatten())\n",
    "print(fit.intercept_.flatten())"
   ]
  },
  {
   "cell_type": "markdown",
   "id": "e439c18c-395b-43cf-b59f-c97f8c1d5f97",
   "metadata": {},
   "source": [
    "## Train/Test Splits"
   ]
  },
  {
   "cell_type": "markdown",
   "id": "3b322942-f9db-4600-87a8-9770f56fa54a",
   "metadata": {},
   "source": [
    "## Training and Testing Data\n",
    "A common practice to proactively prevent overfitting in machine learning is to separate training data and testing data.\n",
    "\n",
    "- Training data is data used to fit a model and is typically 2/3 of the data.\n",
    "- Test data is used to test the model and is the remaining 1/3 of the data.\n",
    "\n",
    "By omitting the testing data from training, we see how well the model works on data it has not seen before and change our parameters accordingly."
   ]
  },
  {
   "cell_type": "code",
   "execution_count": 98,
   "id": "889b410e-4873-454b-8db8-43d613268714",
   "metadata": {},
   "outputs": [
    {
     "name": "stdout",
     "output_type": "stream",
     "text": [
      "Squared Residual: 0.993786654522558\n"
     ]
    }
   ],
   "source": [
    "import pandas as pd \n",
    "from sklearn.linear_model import LinearRegression \n",
    "from sklearn.model_selection import train_test_split \n",
    "df =pd.read_csv('https://bit.ly/3cIH97A',delimiter=',')\n",
    "\n",
    "X = df.values[:, :-1] # df.values[all rows,all columns except last column]\n",
    "Y = df.values[:, -1] # df.values[all rows,last column]\n",
    "\n",
    "X_train, X_test, Y_train, Y_test = train_test_split(X, Y, test_size = 1/3)\n",
    "\n",
    "model = LinearRegression()\n",
    "model.fit(X_train, Y_train)\n",
    "result = model.score(X_test, Y_test)\n",
    "print(\"Squared Residual:\",result)"
   ]
  },
  {
   "cell_type": "markdown",
   "id": "78038ce3-36c5-4171-946e-70baeb5c5df3",
   "metadata": {},
   "source": [
    "### K-Fold validation"
   ]
  },
  {
   "cell_type": "code",
   "execution_count": 102,
   "id": "3eeb1ac3-102d-47d5-afa9-552b1263a9b4",
   "metadata": {},
   "outputs": [
    {
     "name": "stdout",
     "output_type": "stream",
     "text": [
      "[0.99447396 0.99177052 0.99315424]\n",
      "MSE: mean=0.993 (stdev-0.001)\n"
     ]
    }
   ],
   "source": [
    "from sklearn.linear_model import LinearRegression \n",
    "from sklearn.model_selection import KFold, cross_val_score \n",
    "df =pd.read_csv('https://bit.ly/3cIH97A',delimiter=',')\n",
    "\n",
    "X = df.values[:, :-1] # df.values[all rows,all columns except last column]\n",
    "Y = df.values[:, -1] # df.values[all rows,last column]\n",
    "\n",
    "# Perform a simple linear regression\n",
    "kfold = KFold(n_splits = 3, random_state=3, shuffle=True)\n",
    "model = LinearRegression()\n",
    "results = cross_val_score(model, X, Y, cv=kfold)\n",
    "print(results)\n",
    "print(\"MSE: mean=%.3f (stdev-%.3f)\" % (results.mean(), results.std()))"
   ]
  },
  {
   "cell_type": "code",
   "execution_count": null,
   "id": "5f2ce388-9839-45d6-a6fb-abbfaca93aac",
   "metadata": {},
   "outputs": [],
   "source": []
  },
  {
   "cell_type": "markdown",
   "id": "316f362d-67c5-430b-8955-10559154988a",
   "metadata": {},
   "source": [
    "## Performance metrix\n",
    "\n",
    "1. Mean Absolute Error\n",
    "2. Mean Squared Error\n",
    "3. Pearson correlation\n",
    "4. R^2\n",
    "5. P-value "
   ]
  },
  {
   "cell_type": "code",
   "execution_count": 107,
   "id": "a1652fef-a22b-4ce4-bbea-159eb7ccf44c",
   "metadata": {},
   "outputs": [
    {
     "data": {
      "text/html": [
       "<div>\n",
       "<style scoped>\n",
       "    .dataframe tbody tr th:only-of-type {\n",
       "        vertical-align: middle;\n",
       "    }\n",
       "\n",
       "    .dataframe tbody tr th {\n",
       "        vertical-align: top;\n",
       "    }\n",
       "\n",
       "    .dataframe thead th {\n",
       "        text-align: right;\n",
       "    }\n",
       "</style>\n",
       "<table border=\"1\" class=\"dataframe\">\n",
       "  <thead>\n",
       "    <tr style=\"text-align: right;\">\n",
       "      <th></th>\n",
       "      <th>x</th>\n",
       "      <th>y</th>\n",
       "    </tr>\n",
       "  </thead>\n",
       "  <tbody>\n",
       "    <tr>\n",
       "      <th>x</th>\n",
       "      <td>1.000000</td>\n",
       "      <td>0.996665</td>\n",
       "    </tr>\n",
       "    <tr>\n",
       "      <th>y</th>\n",
       "      <td>0.996665</td>\n",
       "      <td>1.000000</td>\n",
       "    </tr>\n",
       "  </tbody>\n",
       "</table>\n",
       "</div>"
      ],
      "text/plain": [
       "          x         y\n",
       "x  1.000000  0.996665\n",
       "y  0.996665  1.000000"
      ]
     },
     "execution_count": 107,
     "metadata": {},
     "output_type": "execute_result"
    }
   ],
   "source": [
    "df.corr(method = 'pearson')"
   ]
  },
  {
   "cell_type": "markdown",
   "id": "2f363ea4-22a7-4f08-a91d-77447bd42a2f",
   "metadata": {},
   "source": [
    "##### **Calculating Correlation Coeffiecient**\n",
    "---\n",
    "<br>\n",
    "\\begin{equation}\n",
    "r = \\frac{n∑xy\\,-\\,(∑x)(∑y)}{{\\sqrt{n∑x^2 \\,-\\,(∑x^2)}}{\\sqrt{n∑x^2 \\,-\\,(∑x^2)}}}\n",
    "\\end{equation}"
   ]
  },
  {
   "cell_type": "code",
   "execution_count": null,
   "id": "fe37a73b-4c84-4797-a314-2f4e8f1323ae",
   "metadata": {},
   "outputs": [],
   "source": []
  },
  {
   "cell_type": "code",
   "execution_count": null,
   "id": "f0a440a5-89c0-431e-9d80-49aa92173326",
   "metadata": {},
   "outputs": [],
   "source": []
  },
  {
   "cell_type": "code",
   "execution_count": null,
   "id": "26be40be-9cf6-409c-9bc1-9981b8622762",
   "metadata": {},
   "outputs": [],
   "source": []
  }
 ],
 "metadata": {
  "kernelspec": {
   "display_name": "Python 3 (ipykernel)",
   "language": "python",
   "name": "python3"
  },
  "language_info": {
   "codemirror_mode": {
    "name": "ipython",
    "version": 3
   },
   "file_extension": ".py",
   "mimetype": "text/x-python",
   "name": "python",
   "nbconvert_exporter": "python",
   "pygments_lexer": "ipython3",
   "version": "3.11.7"
  }
 },
 "nbformat": 4,
 "nbformat_minor": 5
}
