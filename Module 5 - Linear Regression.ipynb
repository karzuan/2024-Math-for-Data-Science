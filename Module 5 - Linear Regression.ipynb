{
 "cells": [
  {
   "cell_type": "code",
   "execution_count": 33,
   "id": "fcddd260-19b4-475c-80bf-8f4bad80d276",
   "metadata": {},
   "outputs": [],
   "source": [
    "import pandas as pd\n",
    "from sympy import *\n",
    "from sympy.plotting import plot3d\n",
    "from math import log\n",
    "import seaborn as sns\n",
    "import matplotlib.pyplot as plt\n",
    "from sklearn.linear_model import LinearRegression"
   ]
  },
  {
   "cell_type": "code",
   "execution_count": 2,
   "id": "a8604808-5baf-4cac-888e-471ac3c2f655",
   "metadata": {},
   "outputs": [
    {
     "data": {
      "image/png": "[encoded data removed]",
      "text/plain": [
       "<Figure size 640x480 with 1 Axes>"
      ]
     },
     "metadata": {},
     "output_type": "display_data"
    },
    {
     "data": {
      "text/plain": [
       "<sympy.plotting.plot.Plot at 0x14f71f3d0>"
      ]
     },
     "execution_count": 2,
     "metadata": {},
     "output_type": "execute_result"
    }
   ],
   "source": [
    "x = symbols('x')\n",
    "m = 100000\n",
    "b = 0\n",
    "f = m*x + b\n",
    "plot(f)"
   ]
  },
  {
   "cell_type": "code",
   "execution_count": 3,
   "id": "8ea20ff6-ef27-47de-88e4-421b9fb9a6cf",
   "metadata": {},
   "outputs": [],
   "source": [
    "# Import points\n",
    "points = pd.read_csv(\"https://bit.ly/2KF29Bd\").itertuples()\n",
    "data = pd.read_csv(\"https://bit.ly/2KF29Bd\")\n",
    "\n",
    "# Create a list from itertuples to support repeated iteration\n",
    "points = list(points)"
   ]
  },
  {
   "cell_type": "code",
   "execution_count": 4,
   "id": "2396b064-8ab4-47bc-986f-66fbd6a9825b",
   "metadata": {},
   "outputs": [
    {
     "name": "stdout",
     "output_type": "stream",
     "text": [
      "Pandas(Index=0, x=1, y=5)\n",
      "Pandas(Index=1, x=2, y=10)\n",
      "Pandas(Index=2, x=3, y=10)\n",
      "Pandas(Index=3, x=4, y=15)\n",
      "Pandas(Index=4, x=5, y=14)\n",
      "Pandas(Index=5, x=6, y=15)\n",
      "Pandas(Index=6, x=7, y=19)\n",
      "Pandas(Index=7, x=8, y=18)\n",
      "Pandas(Index=8, x=9, y=25)\n",
      "Pandas(Index=9, x=10, y=23)\n"
     ]
    }
   ],
   "source": [
    "for i in points:\n",
    "    print(i)"
   ]
  },
  {
   "cell_type": "code",
   "execution_count": 5,
   "id": "72e730ea-b269-4365-adda-0d875eddf78b",
   "metadata": {},
   "outputs": [
    {
     "name": "stdout",
     "output_type": "stream",
     "text": [
      "    x   y\n",
      "0   1   5\n",
      "1   2  10\n",
      "2   3  10\n",
      "3   4  15\n",
      "4   5  14\n",
      "5   6  15\n",
      "6   7  19\n",
      "7   8  18\n",
      "8   9  25\n",
      "9  10  23\n"
     ]
    }
   ],
   "source": [
    "print(data)"
   ]
  },
  {
   "cell_type": "code",
   "execution_count": 6,
   "id": "096b4a36-d093-4b16-a115-fdc882f5d250",
   "metadata": {},
   "outputs": [
    {
     "name": "stdout",
     "output_type": "stream",
     "text": [
      "x     6\n",
      "y    15\n",
      "Name: 5, dtype: int64\n"
     ]
    }
   ],
   "source": [
    "print(data.loc[5])"
   ]
  },
  {
   "cell_type": "code",
   "execution_count": 7,
   "id": "f1a6d910-f003-4e40-ae15-c812b97cf30b",
   "metadata": {},
   "outputs": [],
   "source": [
    "# Test with a given line\n",
    "m = 1.93939\n",
    "b = 4.73333\n",
    "sum_of_squares = 0.0"
   ]
  },
  {
   "cell_type": "code",
   "execution_count": 8,
   "id": "977aacf3-dd85-413f-8948-e586a4c4231e",
   "metadata": {},
   "outputs": [
    {
     "name": "stdout",
     "output_type": "stream",
     "text": [
      "sum of squares = 28.096969704500005\n"
     ]
    }
   ],
   "source": [
    "# calculate sum of squares\n",
    "for p in points:\n",
    "    y_actual = p.y\n",
    "    y_predict = m*p.x + b\n",
    "    residual_squared = (y_predict - y_actual) **2\n",
    "    sum_of_squares += residual_squared\n",
    "\n",
    "print(\"sum of squares = {}\".format(sum_of_squares))\n",
    "# sum of squares = 28.096969704500005"
   ]
  },
  {
   "cell_type": "code",
   "execution_count": 9,
   "id": "7b01e9dd-fb8b-4773-be2c-b983e9a06193",
   "metadata": {},
   "outputs": [],
   "source": [
    "def sum_of_squares(my_data, slope, rise):\n",
    "    sum_of_squares = 0.0\n",
    "    for p in my_data:\n",
    "        y_actual = p.y\n",
    "        y_predict = slope * p.x + rise\n",
    "        residual_squared = (y_predict - y_actual) **2\n",
    "        #print(residual_squared)\n",
    "        sum_of_squares += residual_squared\n",
    "    return sum_of_squares"
   ]
  },
  {
   "cell_type": "code",
   "execution_count": 10,
   "id": "03095df1-34f6-41ba-889b-10a408328e0c",
   "metadata": {},
   "outputs": [
    {
     "name": "stdout",
     "output_type": "stream",
     "text": [
      "28.265999999999977\n"
     ]
    }
   ],
   "source": [
    "print(sum_of_squares(points, 1.94, 4.6))"
   ]
  },
  {
   "cell_type": "markdown",
   "id": "afc2b004-0d6b-46a6-b8d8-e62734d30c42",
   "metadata": {},
   "source": [
    "## working with Linear regression from Skikit learn library"
   ]
  },
  {
   "cell_type": "code",
   "execution_count": 12,
   "id": "f46a4614-68ad-4286-ac9c-aea631a2a31b",
   "metadata": {},
   "outputs": [
    {
     "data": {
      "text/html": [
       "<div>\n",
       "<style scoped>\n",
       "    .dataframe tbody tr th:only-of-type {\n",
       "        vertical-align: middle;\n",
       "    }\n",
       "\n",
       "    .dataframe tbody tr th {\n",
       "        vertical-align: top;\n",
       "    }\n",
       "\n",
       "    .dataframe thead th {\n",
       "        text-align: right;\n",
       "    }\n",
       "</style>\n",
       "<table border=\"1\" class=\"dataframe\">\n",
       "  <thead>\n",
       "    <tr style=\"text-align: right;\">\n",
       "      <th></th>\n",
       "      <th>x</th>\n",
       "      <th>y</th>\n",
       "    </tr>\n",
       "  </thead>\n",
       "  <tbody>\n",
       "    <tr>\n",
       "      <th>0</th>\n",
       "      <td>1</td>\n",
       "      <td>5</td>\n",
       "    </tr>\n",
       "    <tr>\n",
       "      <th>1</th>\n",
       "      <td>2</td>\n",
       "      <td>10</td>\n",
       "    </tr>\n",
       "    <tr>\n",
       "      <th>2</th>\n",
       "      <td>3</td>\n",
       "      <td>10</td>\n",
       "    </tr>\n",
       "    <tr>\n",
       "      <th>3</th>\n",
       "      <td>4</td>\n",
       "      <td>15</td>\n",
       "    </tr>\n",
       "    <tr>\n",
       "      <th>4</th>\n",
       "      <td>5</td>\n",
       "      <td>14</td>\n",
       "    </tr>\n",
       "  </tbody>\n",
       "</table>\n",
       "</div>"
      ],
      "text/plain": [
       "   x   y\n",
       "0  1   5\n",
       "1  2  10\n",
       "2  3  10\n",
       "3  4  15\n",
       "4  5  14"
      ]
     },
     "execution_count": 12,
     "metadata": {},
     "output_type": "execute_result"
    }
   ],
   "source": [
    "df = pd.read_csv('https://bit.ly/3goOAnt', delimiter=\",\")\n",
    "df.head()"
   ]
  },
  {
   "cell_type": "code",
   "execution_count": 13,
   "id": "044ac523-2b54-4981-bffe-ea3b1ef9c56e",
   "metadata": {},
   "outputs": [],
   "source": [
    "# Extract input variables (all rows, all columns but last column)\n",
    "x = df.values[:, :-1]\n",
    "# Extract output column (all rows, last column)\n",
    "y = df.values[:, -1]\n",
    "# Fit a line to the points\n",
    "fit = LinearRegression().fit(x, y)"
   ]
  },
  {
   "cell_type": "code",
   "execution_count": 14,
   "id": "c407512d-af8f-4d32-be66-0331e6b7f3e0",
   "metadata": {},
   "outputs": [
    {
     "name": "stdout",
     "output_type": "stream",
     "text": [
      "m = [1.93939394]\n",
      "b = [4.73333333]\n"
     ]
    }
   ],
   "source": [
    "m = fit.coef_.flatten() # need to call flatten function, so it does;nt return multidem array\n",
    "b = fit.intercept_.flatten()\n",
    "print(\"m = {0}\".format(m)) \n",
    "print(\"b = {0}\".format(b))"
   ]
  },
  {
   "cell_type": "code",
   "execution_count": 32,
   "id": "420caaad-906f-42e6-8181-d2a1440d4603",
   "metadata": {},
   "outputs": [
    {
     "data": {
      "text/plain": [
       "<Axes: xlabel='x', ylabel='y'>"
      ]
     },
     "execution_count": 32,
     "metadata": {},
     "output_type": "execute_result"
    },
    {
     "data": {
      "image/png": "[encoded data removed]",
      "text/plain": [
       "<Figure size 800x800 with 1 Axes>"
      ]
     },
     "metadata": {},
     "output_type": "display_data"
    }
   ],
   "source": [
    "plt.figure(figsize=(8,8))\n",
    "plt.plot(x, m*x + b, color=\"red\") # line\n",
    "plt.plot(x, m*x + 3, color=\"blue\") # line\n",
    "plt.plot(x, 1.3*x + b, color=\"violet\") # line\n",
    "sns.scatterplot(x=df['x'], y=df['y'], data = df)"
   ]
  },
  {
   "cell_type": "code",
   "execution_count": null,
   "id": "74673f6c-303c-48c1-a9a5-6e6f3bd338b2",
   "metadata": {},
   "outputs": [],
   "source": []
  },
  {
   "cell_type": "code",
   "execution_count": 25,
   "id": "e92bbcea-5cea-45a7-85a4-fed970bb935f",
   "metadata": {},
   "outputs": [
    {
     "data": {
      "image/png": "[encoded data removed]",
      "text/plain": [
       "<Figure size 640x480 with 1 Axes>"
      ]
     },
     "metadata": {},
     "output_type": "display_data"
    }
   ],
   "source": [
    "plt.plot(x, y, 'o') # scatterplot\n",
    "plt.plot(x, m*x + b) # line\n",
    "plt.show()"
   ]
  },
  {
   "cell_type": "markdown",
   "id": "8a09f2c1-065c-4109-8997-cd4e99aa359e",
   "metadata": {},
   "source": [
    "### Multiple linear regression"
   ]
  },
  {
   "cell_type": "code",
   "execution_count": null,
   "id": "e1d404f3-63f1-48e9-8b33-6c388dcbba59",
   "metadata": {},
   "outputs": [],
   "source": [
    "#y = b0 + b1*x1 + b2*x2"
   ]
  },
  {
   "cell_type": "code",
   "execution_count": 34,
   "id": "509dc5f0-bde9-454c-be5e-9391d664b7c5",
   "metadata": {},
   "outputs": [
    {
     "data": {
      "text/html": [
       "<div>\n",
       "<style scoped>\n",
       "    .dataframe tbody tr th:only-of-type {\n",
       "        vertical-align: middle;\n",
       "    }\n",
       "\n",
       "    .dataframe tbody tr th {\n",
       "        vertical-align: top;\n",
       "    }\n",
       "\n",
       "    .dataframe thead th {\n",
       "        text-align: right;\n",
       "    }\n",
       "</style>\n",
       "<table border=\"1\" class=\"dataframe\">\n",
       "  <thead>\n",
       "    <tr style=\"text-align: right;\">\n",
       "      <th></th>\n",
       "      <th>x1</th>\n",
       "      <th>x2</th>\n",
       "      <th>y</th>\n",
       "    </tr>\n",
       "  </thead>\n",
       "  <tbody>\n",
       "    <tr>\n",
       "      <th>0</th>\n",
       "      <td>0</td>\n",
       "      <td>22</td>\n",
       "      <td>88</td>\n",
       "    </tr>\n",
       "    <tr>\n",
       "      <th>1</th>\n",
       "      <td>1</td>\n",
       "      <td>13</td>\n",
       "      <td>62</td>\n",
       "    </tr>\n",
       "    <tr>\n",
       "      <th>2</th>\n",
       "      <td>1</td>\n",
       "      <td>15</td>\n",
       "      <td>67</td>\n",
       "    </tr>\n",
       "    <tr>\n",
       "      <th>3</th>\n",
       "      <td>1</td>\n",
       "      <td>14</td>\n",
       "      <td>62</td>\n",
       "    </tr>\n",
       "    <tr>\n",
       "      <th>4</th>\n",
       "      <td>2</td>\n",
       "      <td>18</td>\n",
       "      <td>77</td>\n",
       "    </tr>\n",
       "  </tbody>\n",
       "</table>\n",
       "</div>"
      ],
      "text/plain": [
       "   x1  x2   y\n",
       "0   0  22  88\n",
       "1   1  13  62\n",
       "2   1  15  67\n",
       "3   1  14  62\n",
       "4   2  18  77"
      ]
     },
     "execution_count": 34,
     "metadata": {},
     "output_type": "execute_result"
    }
   ],
   "source": [
    "# Load the data\n",
    "df = pd.read_csv('https://bit.ly/2X1HWH7', delimiter=\",\")\n",
    "df.head()"
   ]
  },
  {
   "cell_type": "code",
   "execution_count": 35,
   "id": "862f8c24-6274-410b-b6fb-305a4e4b81e7",
   "metadata": {},
   "outputs": [],
   "source": [
    "# Extract input variables (all rows, all columns but last column)\n",
    "X = df.values[:, :-1]\n",
    "# Extract output column (all rows, last column) \\a\n",
    "Y = df.values[:, -1]"
   ]
  },
  {
   "cell_type": "code",
   "execution_count": 36,
   "id": "08a17021-7604-4509-96ba-5af35bf347d3",
   "metadata": {},
   "outputs": [
    {
     "name": "stdout",
     "output_type": "stream",
     "text": [
      "Coefficients = [2.00672647 3.00203798]\n",
      "Intercept = 20.109432820035963\n"
     ]
    }
   ],
   "source": [
    "# Training\n",
    "fit = LinearRegression(). fit(X, Y)\n",
    "# Print coefficientsa\n",
    "print(\"Coefficients = {0}\".format(fit.coef_))\n",
    "print(\"Intercept = {0}\".format(fit.intercept_))"
   ]
  },
  {
   "cell_type": "code",
   "execution_count": 37,
   "id": "2305472e-1fdb-4d4b-a29c-c4f3690c027d",
   "metadata": {},
   "outputs": [
    {
     "name": "stdout",
     "output_type": "stream",
     "text": [
      "y=20.109432820035963 + 2.006726472512807x1 + 3.0020379766466925x2\n"
     ]
    }
   ],
   "source": [
    "print(\"y={0} + {1}x1 + {2}x2\".format(fit.intercept_, fit.coef_[0], fit.coef_[1]))"
   ]
  },
  {
   "cell_type": "code",
   "execution_count": 43,
   "id": "85d3c3ef-bf0d-4875-be3c-06f5c17245e4",
   "metadata": {},
   "outputs": [
    {
     "name": "stdout",
     "output_type": "stream",
     "text": [
      "0\n",
      "1\n",
      "1\n",
      "1\n",
      "2\n",
      "2\n",
      "2\n",
      "3\n",
      "3\n",
      "4\n"
     ]
    }
   ],
   "source": [
    "count = 0\n",
    "for i in df.itertuples():\n",
    "    if count < 10:\n",
    "        print(i.x1)\n",
    "    else: break\n",
    "    count+=1"
   ]
  },
  {
   "cell_type": "markdown",
   "id": "5f90387c-1ac5-4808-8c2f-6f23dd845dfa",
   "metadata": {},
   "source": [
    "continue from \"004. Fitting a Linear Regression\" 1:48"
   ]
  },
  {
   "cell_type": "code",
   "execution_count": null,
   "id": "42afe07e-c340-4ee6-8043-824ae5faf713",
   "metadata": {},
   "outputs": [],
   "source": []
  },
  {
   "cell_type": "code",
   "execution_count": null,
   "id": "c54d3c00-69c8-48a9-bf24-d993fb3a006c",
   "metadata": {},
   "outputs": [],
   "source": []
  },
  {
   "cell_type": "code",
   "execution_count": null,
   "id": "97a7424f-c9a3-422f-b7de-aa55f7613597",
   "metadata": {},
   "outputs": [],
   "source": []
  }
 ],
 "metadata": {
  "kernelspec": {
   "display_name": "Python 3 (ipykernel)",
   "language": "python",
   "name": "python3"
  },
  "language_info": {
   "codemirror_mode": {
    "name": "ipython",
    "version": 3
   },
   "file_extension": ".py",
   "mimetype": "text/x-python",
   "name": "python",
   "nbconvert_exporter": "python",
   "pygments_lexer": "ipython3",
   "version": "3.11.7"
  }
 },
 "nbformat": 4,
 "nbformat_minor": 5
}
